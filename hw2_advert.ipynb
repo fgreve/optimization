{
 "cells": [
  {
   "cell_type": "markdown",
   "metadata": {},
   "source": [
    "# Weasley's Wizard Wheezes\n",
    "You are in charge of an advertising campaign for Fred and George Weasley, who have invented a new brand of love potion, and they have given you a budget of 1 million galleons.  You can advertise on wizard TV or in magazines. One minute of TV costs 20,000 Galleons and reaches 1.8 million potential wizarding customers; a magazine page (in the Quibbler) costs 10,000 galleons and reaches 1 million. You must sign up for at least 10 minutes of TV time.\n",
    "\n",
    "### How should you spend your budget to maximize your audience? Formulate the problem in GAMS and solve it. \n",
    "\n",
    "Hint: You should be able to do this without resetting and restarting.  In some cases you may want to fix a subset of the variables to zero."
   ]
  },
  {
   "cell_type": "code",
   "execution_count": 1,
   "metadata": {},
   "outputs": [],
   "source": [
    "# Load the gams extension\n",
    "%load_ext gams_magic\n",
    "\n",
    "%matplotlib inline\n",
    "import matplotlib.pyplot as plt"
   ]
  },
  {
   "cell_type": "markdown",
   "metadata": {},
   "source": [
    "__The GAMS Model:__"
   ]
  },
  {
   "cell_type": "code",
   "execution_count": 2,
   "metadata": {},
   "outputs": [
    {
     "data": {
      "text/html": [
       "<div>\n",
       "<style scoped>\n",
       "    .dataframe tbody tr th:only-of-type {\n",
       "        vertical-align: middle;\n",
       "    }\n",
       "\n",
       "    .dataframe tbody tr th {\n",
       "        vertical-align: top;\n",
       "    }\n",
       "\n",
       "    .dataframe thead th {\n",
       "        text-align: right;\n",
       "    }\n",
       "</style>\n",
       "<table border=\"1\" class=\"dataframe\">\n",
       "  <thead>\n",
       "    <tr style=\"text-align: right;\">\n",
       "      <th></th>\n",
       "      <th>Solver Status</th>\n",
       "      <th>Model Status</th>\n",
       "      <th>Objective</th>\n",
       "      <th>#equ</th>\n",
       "      <th>#var</th>\n",
       "      <th>Model Type</th>\n",
       "      <th>Solver</th>\n",
       "      <th>Solver Time</th>\n",
       "    </tr>\n",
       "  </thead>\n",
       "  <tbody>\n",
       "    <tr>\n",
       "      <td>0</td>\n",
       "      <td>Normal (1)</td>\n",
       "      <td>Optimal Global (1)</td>\n",
       "      <td>98000000.0</td>\n",
       "      <td>3</td>\n",
       "      <td>3</td>\n",
       "      <td>LP</td>\n",
       "      <td>CPLEX</td>\n",
       "      <td>0</td>\n",
       "    </tr>\n",
       "  </tbody>\n",
       "</table>\n",
       "</div>"
      ],
      "text/plain": [
       "  Solver Status        Model Status   Objective #equ #var Model Type Solver  \\\n",
       "0    Normal (1)  Optimal Global (1)  98000000.0    3    3         LP  CPLEX   \n",
       "\n",
       "  Solver Time  \n",
       "0           0  "
      ]
     },
     "execution_count": 2,
     "metadata": {},
     "output_type": "execute_result"
    }
   ],
   "source": [
    "%%gams\n",
    "\n",
    "Set\n",
    "    i 'advertise'  / TV, magazines /\n",
    "    \n",
    "Variables\n",
    "    x(i) 'minutes of advertise i'\n",
    "    z   'total profits';\n",
    "   \n",
    "Positive Variable x;\n",
    "\n",
    "Parameter\n",
    "    costs(i) 'One minute costs'\n",
    "        / TV          20000\n",
    "          magazines   10000 /\n",
    "    \n",
    "    costumers(i) 'million potential wizarding customers'\n",
    "        / TV           1800000\n",
    "          magazines    1000000 /;           \n",
    "            \n",
    "Equation\n",
    "    obj     'obj'\n",
    "    budget  'total advertisement must be less than 1 million'\n",
    "    minTV   'You must sign up for at least 10 minutes of TV time';\n",
    "\n",
    "    minTV.. x('TV') =g= 10;\n",
    "    budget.. sum(i,x(i)*costs(i)) =l= 1000000;\n",
    "    obj.. sum(i,x(i)*costumers(i)) =e= z; \n",
    "\n",
    "model prob /all/;\n",
    "\n",
    "Options LP  = Cplex;\n",
    "\n",
    "Solve prob using LP maximizing z;\n",
    "\n",
    "display z.l, x.l;\n"
   ]
  },
  {
   "cell_type": "code",
   "execution_count": 3,
   "metadata": {},
   "outputs": [
    {
     "data": {
      "text/plain": [
       "{'No radio': 98000000.0}"
      ]
     },
     "execution_count": 3,
     "metadata": {},
     "output_type": "execute_result"
    }
   ],
   "source": [
    "%gams_pull z\n",
    "results = {'No radio':z[0][0]}\n",
    "results"
   ]
  },
  {
   "cell_type": "markdown",
   "metadata": {},
   "source": [
    "It takes creative talent to create effective advertising; in your organization it takes three wizard-weeks to create a magazine page, and one wizard-week to create a TV minute. You have only 100 wizard-weeks available. Add this contraint to the model and determine how you should spend your budget."
   ]
  },
  {
   "cell_type": "code",
   "execution_count": 6,
   "metadata": {},
   "outputs": [
    {
     "data": {
      "text/html": [
       "<div>\n",
       "<style scoped>\n",
       "    .dataframe tbody tr th:only-of-type {\n",
       "        vertical-align: middle;\n",
       "    }\n",
       "\n",
       "    .dataframe tbody tr th {\n",
       "        vertical-align: top;\n",
       "    }\n",
       "\n",
       "    .dataframe thead th {\n",
       "        text-align: right;\n",
       "    }\n",
       "</style>\n",
       "<table border=\"1\" class=\"dataframe\">\n",
       "  <thead>\n",
       "    <tr style=\"text-align: right;\">\n",
       "      <th></th>\n",
       "      <th>Solver Status</th>\n",
       "      <th>Model Status</th>\n",
       "      <th>Objective</th>\n",
       "      <th>#equ</th>\n",
       "      <th>#var</th>\n",
       "      <th>Model Type</th>\n",
       "      <th>Solver</th>\n",
       "      <th>Solver Time</th>\n",
       "    </tr>\n",
       "  </thead>\n",
       "  <tbody>\n",
       "    <tr>\n",
       "      <td>0</td>\n",
       "      <td>Normal (1)</td>\n",
       "      <td>Optimal Global (1)</td>\n",
       "      <td>92000000.0</td>\n",
       "      <td>4</td>\n",
       "      <td>3</td>\n",
       "      <td>LP</td>\n",
       "      <td>CPLEX</td>\n",
       "      <td>0.156</td>\n",
       "    </tr>\n",
       "  </tbody>\n",
       "</table>\n",
       "</div>"
      ],
      "text/plain": [
       "  Solver Status        Model Status   Objective #equ #var Model Type Solver  \\\n",
       "0    Normal (1)  Optimal Global (1)  92000000.0    4    3         LP  CPLEX   \n",
       "\n",
       "  Solver Time  \n",
       "0       0.156  "
      ]
     },
     "execution_count": 6,
     "metadata": {},
     "output_type": "execute_result"
    }
   ],
   "source": [
    "%%gams\n",
    "\n",
    "Set\n",
    "    i 'advertise'  / TV, magazines /\n",
    "    \n",
    "Variables\n",
    "    x(i) 'minutes of advertise i'\n",
    "    z   'total profits';\n",
    "   \n",
    "Positive Variable x;\n",
    "\n",
    "Parameter\n",
    "    costs(i) 'One minute costs'\n",
    "        / TV          20000\n",
    "          magazines   10000 /\n",
    "    \n",
    "    costumers(i) 'million potential wizarding customers'\n",
    "        / TV           1800000\n",
    "          magazines    1000000 /\n",
    "\n",
    "    weeks(i) 'wizard-week'\n",
    "        / TV           1\n",
    "          magazines    3 /;\n",
    "            \n",
    "Equation\n",
    "    obj     'obj'\n",
    "    budget  'total advertisement must be less than 1 million'\n",
    "    minTV   'You must sign up for at least 10 minutes of TV time'\n",
    "    budget2 'You have only 100 wizard-weeks available';\n",
    "\n",
    "    minTV.. x('TV') =g= 10;\n",
    "    budget.. sum(i,x(i)*costs(i)) =l= 1000000;\n",
    "    budget2.. sum(i,x(i)*weeks(i)) =l= 100;\n",
    "    obj.. sum(i,x(i)*costumers(i)) =e= z; \n",
    "\n",
    "model prob /all/;\n",
    "\n",
    "Options LP  = Cplex;\n",
    "\n",
    "Solve prob using LP maximizing z;\n",
    "\n",
    "display z.l, x.l;"
   ]
  },
  {
   "cell_type": "code",
   "execution_count": 7,
   "metadata": {},
   "outputs": [
    {
     "data": {
      "text/plain": [
       "{'No radio': 98000000.0, 'No radio and time limit': 92000000.0}"
      ]
     },
     "execution_count": 7,
     "metadata": {},
     "output_type": "execute_result"
    }
   ],
   "source": [
    "%gams_pull z\n",
    "results['No radio and time limit'] = z[0][0]\n",
    "results"
   ]
  },
  {
   "cell_type": "markdown",
   "metadata": {},
   "source": [
    "Radio advertising reaches a quarter million wizards per minute, costs 2,000 galleons/per minute and requires only 1 wizard-day of time. How does this medium affect your solutions?"
   ]
  },
  {
   "cell_type": "code",
   "execution_count": 9,
   "metadata": {},
   "outputs": [
    {
     "data": {
      "text/html": [
       "<div>\n",
       "<style scoped>\n",
       "    .dataframe tbody tr th:only-of-type {\n",
       "        vertical-align: middle;\n",
       "    }\n",
       "\n",
       "    .dataframe tbody tr th {\n",
       "        vertical-align: top;\n",
       "    }\n",
       "\n",
       "    .dataframe thead th {\n",
       "        text-align: right;\n",
       "    }\n",
       "</style>\n",
       "<table border=\"1\" class=\"dataframe\">\n",
       "  <thead>\n",
       "    <tr style=\"text-align: right;\">\n",
       "      <th></th>\n",
       "      <th>Solver Status</th>\n",
       "      <th>Model Status</th>\n",
       "      <th>Objective</th>\n",
       "      <th>#equ</th>\n",
       "      <th>#var</th>\n",
       "      <th>Model Type</th>\n",
       "      <th>Solver</th>\n",
       "      <th>Solver Time</th>\n",
       "    </tr>\n",
       "  </thead>\n",
       "  <tbody>\n",
       "    <tr>\n",
       "      <td>0</td>\n",
       "      <td>Normal (1)</td>\n",
       "      <td>Optimal Global (1)</td>\n",
       "      <td>9.388889e+07</td>\n",
       "      <td>4</td>\n",
       "      <td>4</td>\n",
       "      <td>LP</td>\n",
       "      <td>CPLEX</td>\n",
       "      <td>0.016</td>\n",
       "    </tr>\n",
       "  </tbody>\n",
       "</table>\n",
       "</div>"
      ],
      "text/plain": [
       "  Solver Status        Model Status     Objective #equ #var Model Type Solver  \\\n",
       "0    Normal (1)  Optimal Global (1)  9.388889e+07    4    4         LP  CPLEX   \n",
       "\n",
       "  Solver Time  \n",
       "0       0.016  "
      ]
     },
     "execution_count": 9,
     "metadata": {},
     "output_type": "execute_result"
    }
   ],
   "source": [
    "%%gams\n",
    "\n",
    "Set\n",
    "    i 'advertise'  / TV, magazines, radio /\n",
    "    \n",
    "Variables\n",
    "    x(i) 'minutes of advertise i'\n",
    "    z   'total profits';\n",
    "   \n",
    "Positive Variable x;\n",
    "\n",
    "Parameter\n",
    "    costs(i) 'One minute costs'\n",
    "        / TV          20000\n",
    "          magazines   10000\n",
    "          radio        2000 /\n",
    "    \n",
    "    costumers(i) 'million potential wizarding customers'\n",
    "        / TV           1800000\n",
    "          magazines    1000000\n",
    "          radio         250000 /\n",
    "\n",
    "    weeks(i) 'wizard-week'\n",
    "        / TV           1\n",
    "          magazines    3\n",
    "          radio        1 /;\n",
    "            \n",
    "Equation\n",
    "    obj     'obj'\n",
    "    budget  'total advertisement must be less than 1 million'\n",
    "    minTV   'You must sign up for at least 10 minutes of TV time'\n",
    "    budget2 'You have only 100 wizard-weeks available';\n",
    "\n",
    "    minTV.. x('TV') =g= 10;\n",
    "    budget.. sum(i,x(i)*costs(i)) =l= 1000000;\n",
    "    budget2.. sum(i,x(i)*weeks(i)) =l= 100;\n",
    "    obj.. sum(i,x(i)*costumers(i)) =e= z; \n",
    "\n",
    "model prob /all/;\n",
    "\n",
    "Options LP  = Cplex;\n",
    "\n",
    "Solve prob using LP maximizing z;\n",
    "\n",
    "display z.l, x.l;"
   ]
  },
  {
   "cell_type": "code",
   "execution_count": 10,
   "metadata": {},
   "outputs": [
    {
     "data": {
      "text/plain": [
       "{'No radio': 98000000.0,\n",
       " 'No radio and time limit': 92000000.0,\n",
       " 'Radio with time limit': 93888888.8888889}"
      ]
     },
     "execution_count": 10,
     "metadata": {},
     "output_type": "execute_result"
    }
   ],
   "source": [
    "%gams_pull z\n",
    "results['Radio with time limit'] = z[0][0]\n",
    "results"
   ]
  },
  {
   "cell_type": "markdown",
   "metadata": {},
   "source": [
    "How does the solution change if you have to sign up for at least two magazine pages? "
   ]
  },
  {
   "cell_type": "code",
   "execution_count": 11,
   "metadata": {},
   "outputs": [
    {
     "data": {
      "text/html": [
       "<div>\n",
       "<style scoped>\n",
       "    .dataframe tbody tr th:only-of-type {\n",
       "        vertical-align: middle;\n",
       "    }\n",
       "\n",
       "    .dataframe tbody tr th {\n",
       "        vertical-align: top;\n",
       "    }\n",
       "\n",
       "    .dataframe thead th {\n",
       "        text-align: right;\n",
       "    }\n",
       "</style>\n",
       "<table border=\"1\" class=\"dataframe\">\n",
       "  <thead>\n",
       "    <tr style=\"text-align: right;\">\n",
       "      <th></th>\n",
       "      <th>Solver Status</th>\n",
       "      <th>Model Status</th>\n",
       "      <th>Objective</th>\n",
       "      <th>#equ</th>\n",
       "      <th>#var</th>\n",
       "      <th>Model Type</th>\n",
       "      <th>Solver</th>\n",
       "      <th>Solver Time</th>\n",
       "    </tr>\n",
       "  </thead>\n",
       "  <tbody>\n",
       "    <tr>\n",
       "      <td>0</td>\n",
       "      <td>Normal (1)</td>\n",
       "      <td>Optimal Global (1)</td>\n",
       "      <td>93700000.0</td>\n",
       "      <td>5</td>\n",
       "      <td>4</td>\n",
       "      <td>LP</td>\n",
       "      <td>CPLEX</td>\n",
       "      <td>0.016</td>\n",
       "    </tr>\n",
       "  </tbody>\n",
       "</table>\n",
       "</div>"
      ],
      "text/plain": [
       "  Solver Status        Model Status   Objective #equ #var Model Type Solver  \\\n",
       "0    Normal (1)  Optimal Global (1)  93700000.0    5    4         LP  CPLEX   \n",
       "\n",
       "  Solver Time  \n",
       "0       0.016  "
      ]
     },
     "execution_count": 11,
     "metadata": {},
     "output_type": "execute_result"
    }
   ],
   "source": [
    "%%gams\n",
    "\n",
    "Set\n",
    "    i 'advertise'  / TV, magazines, radio /\n",
    "    \n",
    "Variables\n",
    "    x(i) 'minutes of advertise i'\n",
    "    z   'total profits';\n",
    "   \n",
    "Positive Variable x;\n",
    "\n",
    "Parameter\n",
    "    costs(i) 'One minute costs'\n",
    "        / TV          20000\n",
    "          magazines   10000\n",
    "          radio        2000 /\n",
    "    \n",
    "    costumers(i) 'million potential wizarding customers'\n",
    "        / TV           1800000\n",
    "          magazines    1000000\n",
    "          radio         250000 /\n",
    "\n",
    "    weeks(i) 'wizard-week'\n",
    "        / TV           1\n",
    "          magazines    3\n",
    "          radio        1 /;\n",
    "            \n",
    "Equation\n",
    "    obj     'obj'\n",
    "    budget  'total advertisement must be less than 1 million'\n",
    "    minTV   'You must sign up for at least 10 minutes of TV time'\n",
    "    minmagazine 'You must sign up for at least two magazine pages'\n",
    "    budget2 'You have only 100 wizard-weeks available';\n",
    "\n",
    "    minTV.. x('TV') =g= 10;\n",
    "    minmagazine.. x('magazines') =g= 2;\n",
    "    budget.. sum(i,x(i)*costs(i)) =l= 1000000;\n",
    "    budget2.. sum(i,x(i)*weeks(i)) =l= 100;\n",
    "    obj.. sum(i,x(i)*costumers(i)) =e= z; \n",
    "\n",
    "model prob /all/;\n",
    "\n",
    "Options LP  = Cplex;\n",
    "\n",
    "Solve prob using LP maximizing z;\n",
    "\n",
    "display z.l, x.l;\n"
   ]
  },
  {
   "cell_type": "code",
   "execution_count": 12,
   "metadata": {},
   "outputs": [
    {
     "data": {
      "text/plain": [
       "{'No radio': 98000000.0,\n",
       " 'No radio and time limit': 92000000.0,\n",
       " 'Radio with time limit': 93888888.8888889,\n",
       " 'Radio with time and mag limit': 93700000.0}"
      ]
     },
     "execution_count": 12,
     "metadata": {},
     "output_type": "execute_result"
    }
   ],
   "source": [
    "%gams_pull z\n",
    "results['Radio with time and mag limit'] = z[0][0]\n",
    "results"
   ]
  },
  {
   "cell_type": "markdown",
   "metadata": {},
   "source": [
    "What if you require in addition a maximum of 120 minutes of radio? "
   ]
  },
  {
   "cell_type": "code",
   "execution_count": 13,
   "metadata": {},
   "outputs": [
    {
     "data": {
      "text/html": [
       "<div>\n",
       "<style scoped>\n",
       "    .dataframe tbody tr th:only-of-type {\n",
       "        vertical-align: middle;\n",
       "    }\n",
       "\n",
       "    .dataframe tbody tr th {\n",
       "        vertical-align: top;\n",
       "    }\n",
       "\n",
       "    .dataframe thead th {\n",
       "        text-align: right;\n",
       "    }\n",
       "</style>\n",
       "<table border=\"1\" class=\"dataframe\">\n",
       "  <thead>\n",
       "    <tr style=\"text-align: right;\">\n",
       "      <th></th>\n",
       "      <th>Solver Status</th>\n",
       "      <th>Model Status</th>\n",
       "      <th>Objective</th>\n",
       "      <th>#equ</th>\n",
       "      <th>#var</th>\n",
       "      <th>Model Type</th>\n",
       "      <th>Solver</th>\n",
       "      <th>Solver Time</th>\n",
       "    </tr>\n",
       "  </thead>\n",
       "  <tbody>\n",
       "    <tr>\n",
       "      <td>0</td>\n",
       "      <td>Normal (1)</td>\n",
       "      <td>Optimal Global (1)</td>\n",
       "      <td>93700000.0</td>\n",
       "      <td>6</td>\n",
       "      <td>4</td>\n",
       "      <td>LP</td>\n",
       "      <td>CPLEX</td>\n",
       "      <td>0.015</td>\n",
       "    </tr>\n",
       "  </tbody>\n",
       "</table>\n",
       "</div>"
      ],
      "text/plain": [
       "  Solver Status        Model Status   Objective #equ #var Model Type Solver  \\\n",
       "0    Normal (1)  Optimal Global (1)  93700000.0    6    4         LP  CPLEX   \n",
       "\n",
       "  Solver Time  \n",
       "0       0.015  "
      ]
     },
     "execution_count": 13,
     "metadata": {},
     "output_type": "execute_result"
    }
   ],
   "source": [
    "%%gams\n",
    "\n",
    "Set\n",
    "    i 'advertise'  / TV, magazines, radio /\n",
    "    \n",
    "Variables\n",
    "    x(i) 'minutes of advertise i'\n",
    "    z   'total profits';\n",
    "   \n",
    "Positive Variable x;\n",
    "\n",
    "Parameter\n",
    "    costs(i) 'One minute costs'\n",
    "        / TV          20000\n",
    "          magazines   10000\n",
    "          radio        2000 /\n",
    "    \n",
    "    costumers(i) 'million potential wizarding customers'\n",
    "        / TV           1800000\n",
    "          magazines    1000000\n",
    "          radio         250000 /\n",
    "\n",
    "    weeks(i) 'wizard-week'\n",
    "        / TV           1\n",
    "          magazines    3\n",
    "          radio        1 /;\n",
    "            \n",
    "Equation\n",
    "    obj     'obj'\n",
    "    budget  'total advertisement must be less than 1 million'\n",
    "    minTV   'You must sign up for at least 10 minutes of TV time'\n",
    "    minmagazine 'You must sign up for at least two magazine pages'\n",
    "    maxradio 'you require in addition a maximum of 120 minutes of radio'\n",
    "    budget2 'You have only 100 wizard-weeks available';\n",
    "\n",
    "    minTV.. x('TV') =g= 10;\n",
    "    minmagazine.. x('magazines') =g= 2;\n",
    "    maxradio.. x('radio') =l= 120;\n",
    "    budget.. sum(i,x(i)*costs(i)) =l= 1000000;\n",
    "    budget2.. sum(i,x(i)*weeks(i)) =l= 100;\n",
    "    obj.. sum(i,x(i)*costumers(i)) =e= z; \n",
    "\n",
    "model prob /all/;\n",
    "\n",
    "Options LP  = Cplex;\n",
    "\n",
    "Solve prob using LP maximizing z;\n",
    "\n",
    "display z.l, x.l;"
   ]
  },
  {
   "cell_type": "code",
   "execution_count": 14,
   "metadata": {},
   "outputs": [
    {
     "data": {
      "text/plain": [
       "{'No radio': 98000000.0,\n",
       " 'No radio and time limit': 92000000.0,\n",
       " 'Radio with time limit': 93888888.8888889,\n",
       " 'Radio with time and mag limit': 93700000.0,\n",
       " 'Radio with time, radio and mag limit': 93700000.0}"
      ]
     },
     "execution_count": 14,
     "metadata": {},
     "output_type": "execute_result"
    }
   ],
   "source": [
    "%gams_pull z\n",
    "results['Radio with time, radio and mag limit'] = z[0][0]\n",
    "results"
   ]
  },
  {
   "cell_type": "markdown",
   "metadata": {},
   "source": [
    "__Plot the objective function values for all 5 solves:__"
   ]
  },
  {
   "cell_type": "code",
   "execution_count": 15,
   "metadata": {},
   "outputs": [
    {
     "data": {
      "image/png": "[encoded data removed]",
      "text/plain": [
       "<Figure size 432x288 with 1 Axes>"
      ]
     },
     "metadata": {
      "needs_background": "light"
     },
     "output_type": "display_data"
    }
   ],
   "source": [
    "plt.barh(range(len(results)), list(results.values()), align='center')\n",
    "plt.yticks(range(len(results)), list(results.keys()));"
   ]
  },
  {
   "cell_type": "code",
   "execution_count": null,
   "metadata": {},
   "outputs": [],
   "source": []
  }
 ],
 "metadata": {
  "kernelspec": {
   "display_name": "Python 3",
   "language": "python",
   "name": "python3"
  },
  "language_info": {
   "codemirror_mode": {
    "name": "ipython",
    "version": 3
   },
   "file_extension": ".py",
   "mimetype": "text/x-python",
   "name": "python",
   "nbconvert_exporter": "python",
   "pygments_lexer": "ipython3",
   "version": "3.7.4"
  }
 },
 "nbformat": 4,
 "nbformat_minor": 2
}
