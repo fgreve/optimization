{
 "cells": [
  {
   "cell_type": "markdown",
   "metadata": {},
   "source": [
    "# Alloy bending\n",
    "The company Steelco has received an order for 500 tons of steel to be used in\n",
    "shipbuilding. The steel must have the following characteristics: <br>\n",
    "\n",
    "|Chemical(Element)|Minimum Grade(%)|Maximum Grade(%)|\n",
    "|-----------------|----------------|----------------|\n",
    "|Carbon(C)        |2               |3               |\n",
    "|Copper(Cu)       |0.4             |0.6             |\n",
    "|Manganese(Mn)    |1.2             |1.65            |\n",
    "\n",
    "The company has seven different raw materials in stock that may be used for the production of\n",
    "this steel. The following table lists the grades, available amounts and prices for all materials:<br>\n",
    "\n",
    "|Raw Material| C%     | Cu%     | Mn%    | Availability (tons)| Cost ($/ton)|\n",
    "|------------|--------|---------|--------|--------------------|-------------|\n",
    "|Iron alloy 1| 2.5    | &nbsp;  | 1.3    | 400                | 200         |\n",
    "|Iron alloy 2| 3      | &nbsp;  | 0.8    | 300                | 250         |\n",
    "|Iron alloy 3| &nbsp; | 0.3     | &nbsp; | 600                | 150         |\n",
    "|Copper 1    | &nbsp; | 90      | &nbsp; | 500                | 220         |\n",
    "|Copper 2    | &nbsp; | 96      | 4      | 200                | 240         |\n",
    "|Aluminum 1  | &nbsp; | 0.4     | 1.2    | 300                | 200         |\n",
    "|Aluminum 2  | &nbsp; | 0.6     | &nbsp; | 250                | 165         |\n",
    "\n",
    "### Determine the composition of the steel that minimizes the production cost "
   ]
  },
  {
   "cell_type": "code",
   "execution_count": 2,
   "metadata": {},
   "outputs": [
    {
     "name": "stdout",
     "output_type": "stream",
     "text": [
      "The gams_magic extension is already loaded. To reload it, use:\n",
      "  %reload_ext gams_magic\n"
     ]
    }
   ],
   "source": [
    "# Load the gams extension\n",
    "%load_ext gams_magic\n",
    "\n",
    "# Enable plots to be shown in notebook\n",
    "%matplotlib inline"
   ]
  },
  {
   "cell_type": "markdown",
   "metadata": {},
   "source": [
    "__The GAMS Model:__"
   ]
  },
  {
   "cell_type": "code",
   "execution_count": 3,
   "metadata": {},
   "outputs": [
    {
     "data": {
      "text/html": [
       "<div>\n",
       "<style scoped>\n",
       "    .dataframe tbody tr th:only-of-type {\n",
       "        vertical-align: middle;\n",
       "    }\n",
       "\n",
       "    .dataframe tbody tr th {\n",
       "        vertical-align: top;\n",
       "    }\n",
       "\n",
       "    .dataframe thead th {\n",
       "        text-align: right;\n",
       "    }\n",
       "</style>\n",
       "<table border=\"1\" class=\"dataframe\">\n",
       "  <thead>\n",
       "    <tr style=\"text-align: right;\">\n",
       "      <th></th>\n",
       "      <th>Solver Status</th>\n",
       "      <th>Model Status</th>\n",
       "      <th>Objective</th>\n",
       "      <th>#equ</th>\n",
       "      <th>#var</th>\n",
       "      <th>Model Type</th>\n",
       "      <th>Solver</th>\n",
       "      <th>Solver Time</th>\n",
       "    </tr>\n",
       "  </thead>\n",
       "  <tbody>\n",
       "    <tr>\n",
       "      <td>0</td>\n",
       "      <td>Normal (1)</td>\n",
       "      <td>Optimal Global (1)</td>\n",
       "      <td>98121.6358</td>\n",
       "      <td>15</td>\n",
       "      <td>8</td>\n",
       "      <td>LP</td>\n",
       "      <td>CPLEX</td>\n",
       "      <td>0.016</td>\n",
       "    </tr>\n",
       "  </tbody>\n",
       "</table>\n",
       "</div>"
      ],
      "text/plain": [
       "  Solver Status        Model Status   Objective #equ #var Model Type Solver  \\\n",
       "0    Normal (1)  Optimal Global (1)  98121.6358   15    8         LP  CPLEX   \n",
       "\n",
       "  Solver Time  \n",
       "0       0.016  "
      ]
     },
     "execution_count": 3,
     "metadata": {},
     "output_type": "execute_result"
    }
   ],
   "source": [
    "%%gams\n",
    "Set\n",
    "    i 'Elements'  / C, Cu, Mn /    \n",
    "    k 'Grades'  / min, max /    \n",
    "    j 'Raw Material'  / Iron_alloy\n",
    "                        Iron_alloy_2\n",
    "                        Iron_alloy_3\n",
    "                        Copper_1\n",
    "                        Copper_2\n",
    "                        Aluminum_1\n",
    "                        Aluminum_2 /;\n",
    " \n",
    "Table req(i,k) 'characteristics (requirements)'\n",
    "              min      max\n",
    "        C      2        3\n",
    "        Cu    0.4      0.6\n",
    "        Mn    1.2      1.65;\n",
    "\n",
    "Table m(j,i) 'materials'\n",
    "                         C   Cu   Mn\n",
    "        Iron_alloy      2.5   0   1.3\n",
    "        Iron_alloy_2    3     0   0.8\n",
    "        Iron_alloy_3    0    0.3  0\n",
    "        Copper_1        0    90   0\n",
    "        Copper_2        0    96   4\n",
    "        Aluminum_1      0    0.4  1.2\n",
    "        Aluminum_2      0    0.6  0; \n",
    "  \n",
    "Parameter\n",
    "    tons(j) 'Availability (tons)'\n",
    "      / Iron_alloy      400    \n",
    "        Iron_alloy_2    300\n",
    "        Iron_alloy_3    600\n",
    "        Copper_1        500\n",
    "        Copper_2        200\n",
    "        Aluminum_1      300\n",
    "        Aluminum_2      250 /\n",
    " \n",
    "    cost(j) 'Cost ($/tons)'\n",
    "      / Iron_alloy      200    \n",
    "        Iron_alloy_2    250\n",
    "        Iron_alloy_3    150\n",
    "        Copper_1        220\n",
    "        Copper_2        240\n",
    "        Aluminum_1      200\n",
    "        Aluminum_2      165 /\n",
    "\n",
    "Variables\n",
    "    x(j) 'tons of j used in the optimal steel composition'\n",
    "    z    'total cost';\n",
    "   \n",
    "Positive Variable x;  \n",
    "\n",
    "Equation\n",
    "    obj 'calculate the cost of the optimal steel composition'\n",
    "    min_grade(i) 'minimum grade of i'\n",
    "    max_grade(i) 'maximum grade of i'\n",
    "    available(j) 'Raw material used must be less than the available j'\n",
    "    size         '500 tons of steel';\n",
    "    \n",
    "    min_grade(i).. sum(j,x(j)*m(j,i)) =g= req(i,'min')*500;\n",
    "    max_grade(i).. sum(j,x(j)*m(j,i)) =l= req(i,'max')*500;\n",
    "    available(j).. x(j) =l= tons(j);\n",
    "    size.. sum(j,x(j)) =e= 500;\n",
    "    obj.. sum(j,x(j)*cost(j)) =e= z;\n",
    "\n",
    "\n",
    "model prob /all/;\n",
    "\n",
    "Options LP  = Cplex;\n",
    "\n",
    "Solve prob using LP minimizing z;\n",
    "\n",
    "display z.l, x.l;"
   ]
  },
  {
   "cell_type": "markdown",
   "metadata": {},
   "source": [
    "__Pull the variable values from GAMS and create a pie chart for the compounds of the optimal steel:__"
   ]
  },
  {
   "cell_type": "code",
   "execution_count": 5,
   "metadata": {
    "scrolled": true
   },
   "outputs": [
    {
     "data": {
      "text/html": [
       "<div>\n",
       "<style scoped>\n",
       "    .dataframe tbody tr th:only-of-type {\n",
       "        vertical-align: middle;\n",
       "    }\n",
       "\n",
       "    .dataframe tbody tr th {\n",
       "        vertical-align: top;\n",
       "    }\n",
       "\n",
       "    .dataframe thead th {\n",
       "        text-align: right;\n",
       "    }\n",
       "</style>\n",
       "<table border=\"1\" class=\"dataframe\">\n",
       "  <thead>\n",
       "    <tr style=\"text-align: right;\">\n",
       "      <th></th>\n",
       "      <th>j</th>\n",
       "      <th>level</th>\n",
       "      <th>marginal</th>\n",
       "      <th>lower</th>\n",
       "      <th>upper</th>\n",
       "      <th>scale</th>\n",
       "    </tr>\n",
       "  </thead>\n",
       "  <tbody>\n",
       "    <tr>\n",
       "      <td>0</td>\n",
       "      <td>Iron_alloy</td>\n",
       "      <td>400.000000</td>\n",
       "      <td>0.000000</td>\n",
       "      <td>0.0</td>\n",
       "      <td>inf</td>\n",
       "      <td>1.0</td>\n",
       "    </tr>\n",
       "    <tr>\n",
       "      <td>1</td>\n",
       "      <td>Iron_alloy_2</td>\n",
       "      <td>0.000000</td>\n",
       "      <td>66.371898</td>\n",
       "      <td>0.0</td>\n",
       "      <td>inf</td>\n",
       "      <td>1.0</td>\n",
       "    </tr>\n",
       "    <tr>\n",
       "      <td>2</td>\n",
       "      <td>Iron_alloy_3</td>\n",
       "      <td>39.776302</td>\n",
       "      <td>0.000000</td>\n",
       "      <td>0.0</td>\n",
       "      <td>inf</td>\n",
       "      <td>1.0</td>\n",
       "    </tr>\n",
       "    <tr>\n",
       "      <td>3</td>\n",
       "      <td>Copper_1</td>\n",
       "      <td>0.000000</td>\n",
       "      <td>142.111150</td>\n",
       "      <td>0.0</td>\n",
       "      <td>inf</td>\n",
       "      <td>1.0</td>\n",
       "    </tr>\n",
       "    <tr>\n",
       "      <td>4</td>\n",
       "      <td>Copper_2</td>\n",
       "      <td>2.761272</td>\n",
       "      <td>0.000000</td>\n",
       "      <td>0.0</td>\n",
       "      <td>inf</td>\n",
       "      <td>1.0</td>\n",
       "    </tr>\n",
       "    <tr>\n",
       "      <td>5</td>\n",
       "      <td>Aluminum_1</td>\n",
       "      <td>57.462426</td>\n",
       "      <td>0.000000</td>\n",
       "      <td>0.0</td>\n",
       "      <td>inf</td>\n",
       "      <td>1.0</td>\n",
       "    </tr>\n",
       "    <tr>\n",
       "      <td>6</td>\n",
       "      <td>Aluminum_2</td>\n",
       "      <td>0.000000</td>\n",
       "      <td>15.241174</td>\n",
       "      <td>0.0</td>\n",
       "      <td>inf</td>\n",
       "      <td>1.0</td>\n",
       "    </tr>\n",
       "  </tbody>\n",
       "</table>\n",
       "</div>"
      ],
      "text/plain": [
       "              j       level    marginal  lower  upper  scale\n",
       "0    Iron_alloy  400.000000    0.000000    0.0    inf    1.0\n",
       "1  Iron_alloy_2    0.000000   66.371898    0.0    inf    1.0\n",
       "2  Iron_alloy_3   39.776302    0.000000    0.0    inf    1.0\n",
       "3      Copper_1    0.000000  142.111150    0.0    inf    1.0\n",
       "4      Copper_2    2.761272    0.000000    0.0    inf    1.0\n",
       "5    Aluminum_1   57.462426    0.000000    0.0    inf    1.0\n",
       "6    Aluminum_2    0.000000   15.241174    0.0    inf    1.0"
      ]
     },
     "execution_count": 5,
     "metadata": {},
     "output_type": "execute_result"
    }
   ],
   "source": [
    "# Pull the values of x from GAMS to Python as a pandas dataframe\n",
    "%gams_pull -d x\n",
    "x"
   ]
  },
  {
   "cell_type": "code",
   "execution_count": 6,
   "metadata": {
    "scrolled": true
   },
   "outputs": [
    {
     "data": {
      "text/plain": [
       "<matplotlib.axes._subplots.AxesSubplot at 0x174fab15208>"
      ]
     },
     "execution_count": 6,
     "metadata": {},
     "output_type": "execute_result"
    },
    {
     "data": {
      "image/png": "[encoded data removed]",
      "text/plain": [
       "<Figure size 360x360 with 1 Axes>"
      ]
     },
     "metadata": {},
     "output_type": "display_data"
    }
   ],
   "source": [
    "# Reset index to j\n",
    "x = x.set_index('j')\n",
    "plot = x.plot.pie(y='level', figsize=(5, 5))\n",
    "plot"
   ]
  },
  {
   "cell_type": "code",
   "execution_count": null,
   "metadata": {},
   "outputs": [],
   "source": []
  }
 ],
 "metadata": {
  "kernelspec": {
   "display_name": "Python 3",
   "language": "python",
   "name": "python3"
  },
  "language_info": {
   "codemirror_mode": {
    "name": "ipython",
    "version": 3
   },
   "file_extension": ".py",
   "mimetype": "text/x-python",
   "name": "python",
   "nbconvert_exporter": "python",
   "pygments_lexer": "ipython3",
   "version": "3.6.9"
  }
 },
 "nbformat": 4,
 "nbformat_minor": 2
}
