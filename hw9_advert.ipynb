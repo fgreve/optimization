{
 "cells": [
  {
   "cell_type": "code",
   "execution_count": 1,
   "metadata": {
    "scrolled": true
   },
   "outputs": [],
   "source": [
    "# Load the gams extension\n",
    "%load_ext gams_magic"
   ]
  },
  {
   "cell_type": "markdown",
   "metadata": {},
   "source": [
    "# Advertising Budget for Weasley's Wizard Wheezes\n",
    "\n",
    "The Weasley's are buying advertising time on the radio in order to\n",
    "reach wizards and witches.  There are a set $N$ of adds that they\n",
    "could possibly purchase.  Each minute of advertising of type $j \\in\n",
    "N$ costs $c_j$.  If they purchase $x_j$ minutes of advertising of an\n",
    "add of type $j$, then they will ensure that $\\alpha_j \\sqrt{x_j}$\n",
    "witches and $\\beta_j \\sqrt{x_j}$ wizards hear their spots.\n",
    "\n",
    "They would like to find a least cost advertising strategy so that\n",
    "their ads will reach $K_1$ witches and $K_2$ wizards.\n",
    "\n",
    "For both problems, please use the following gams code to create the instance."
   ]
  },
  {
   "cell_type": "code",
   "execution_count": 2,
   "metadata": {},
   "outputs": [],
   "source": [
    "%%gams\n",
    "sets N /ad1*ad20/;\n",
    "alias(I,N) ;\n",
    "\n",
    "option seed = 1253;\n",
    "\n",
    "parameters \n",
    "  c(I) Cost\n",
    "  alpha(I) Witches proportionality constant\n",
    "  beta(I) Wizards proportionality constant;\n",
    "\n",
    "scalars K1, K2, totalAdTime;\n",
    "\n",
    "c(I) = normal(100,5);\n",
    "\n",
    "alpha(I) = uniform(7,13) ;\n",
    "beta(I) = 13-alpha(I) + 7 + 5$(uniform(0,1) < 0.3);\n",
    "\n",
    "K1 = 5000;\n",
    "K2 = 8000;"
   ]
  },
  {
   "cell_type": "markdown",
   "metadata": {},
   "source": [
    "### Write a GAMS nlp model that will determine the number of minutes of each advertising spot to purchase. \n",
    "\n",
    "Ensure your code works with the nlp solvers knitro, conopt and ipopt"
   ]
  },
  {
   "cell_type": "code",
   "execution_count": 3,
   "metadata": {},
   "outputs": [
    {
     "data": {
      "text/html": [
       "<div>\n",
       "<style scoped>\n",
       "    .dataframe tbody tr th:only-of-type {\n",
       "        vertical-align: middle;\n",
       "    }\n",
       "\n",
       "    .dataframe tbody tr th {\n",
       "        vertical-align: top;\n",
       "    }\n",
       "\n",
       "    .dataframe thead th {\n",
       "        text-align: right;\n",
       "    }\n",
       "</style>\n",
       "<table border=\"1\" class=\"dataframe\">\n",
       "  <thead>\n",
       "    <tr style=\"text-align: right;\">\n",
       "      <th></th>\n",
       "      <th>Solver Status</th>\n",
       "      <th>Model Status</th>\n",
       "      <th>Objective</th>\n",
       "      <th>#equ</th>\n",
       "      <th>#var</th>\n",
       "      <th>Model Type</th>\n",
       "      <th>Solver</th>\n",
       "      <th>Solver Time</th>\n",
       "    </tr>\n",
       "  </thead>\n",
       "  <tbody>\n",
       "    <tr>\n",
       "      <td>0</td>\n",
       "      <td>Normal (1)</td>\n",
       "      <td>OptimalLocal (2)</td>\n",
       "      <td>1.970912e+06</td>\n",
       "      <td>3</td>\n",
       "      <td>21</td>\n",
       "      <td>NLP</td>\n",
       "      <td>KNITRO</td>\n",
       "      <td>0.078</td>\n",
       "    </tr>\n",
       "    <tr>\n",
       "      <td>1</td>\n",
       "      <td>Normal (1)</td>\n",
       "      <td>OptimalLocal (2)</td>\n",
       "      <td>1.970912e+06</td>\n",
       "      <td>3</td>\n",
       "      <td>21</td>\n",
       "      <td>NLP</td>\n",
       "      <td>CONOPT</td>\n",
       "      <td>0.016</td>\n",
       "    </tr>\n",
       "    <tr>\n",
       "      <td>2</td>\n",
       "      <td>Normal (1)</td>\n",
       "      <td>OptimalLocal (2)</td>\n",
       "      <td>1.970912e+06</td>\n",
       "      <td>3</td>\n",
       "      <td>21</td>\n",
       "      <td>NLP</td>\n",
       "      <td>IPOPT</td>\n",
       "      <td>0</td>\n",
       "    </tr>\n",
       "  </tbody>\n",
       "</table>\n",
       "</div>"
      ],
      "text/plain": [
       "  Solver Status      Model Status     Objective #equ #var Model Type  Solver  \\\n",
       "0    Normal (1)  OptimalLocal (2)  1.970912e+06    3   21        NLP  KNITRO   \n",
       "1    Normal (1)  OptimalLocal (2)  1.970912e+06    3   21        NLP  CONOPT   \n",
       "2    Normal (1)  OptimalLocal (2)  1.970912e+06    3   21        NLP   IPOPT   \n",
       "\n",
       "  Solver Time  \n",
       "0       0.078  \n",
       "1       0.016  \n",
       "2           0  "
      ]
     },
     "execution_count": 3,
     "metadata": {},
     "output_type": "execute_result"
    }
   ],
   "source": [
    "%%gams\n",
    "positive variable x(I);\n",
    "variable objnlp;\n",
    "\n",
    "equation eqnlpobj;\n",
    "eqnlpobj.. objnlp =e= sum(I, x(I)*c(I) ); \n",
    "\n",
    "equation eqk1;\n",
    "eqk1.. K1 =l= sum(I, alpha(I)*sqrt(x(I)) ); \n",
    "\n",
    "equation eqk2;\n",
    "eqk2.. K2 =l= sum(I, beta(I)*sqrt(x(I)) );\n",
    "\n",
    "model advert /eqnlpobj,eqk1,eqk2/;\n",
    "\n",
    "\n",
    "parameter result(*,*);\n",
    "\n",
    "option nlp=knitro;\n",
    "solve advert using NLP min objnlp;\n",
    "result(\"knitro\",\"ObjVal\") = objnlp.L;\n",
    "\n",
    "option nlp=conopt;\n",
    "solve advert using NLP min objnlp;\n",
    "result(\"conopt\",\"ObjVal\") = objnlp.L;\n",
    "\n",
    "option nlp=ipopt;\n",
    "solve advert using NLP min objnlp;\n",
    "result(\"ipopt\",\"ObjVal\") = objnlp.L;\n",
    "\n",
    "display result;\n",
    "display x.L;\n",
    "parameter totalAdTime;\n",
    "totalAdTime = sum(I, x.L(I) );\n",
    "display totalAdTime;"
   ]
  },
  {
   "cell_type": "code",
   "execution_count": 4,
   "metadata": {},
   "outputs": [
    {
     "name": "stdout",
     "output_type": "stream",
     "text": [
      "totalAdTime =  20139.567425648293\n"
     ]
    },
    {
     "data": {
      "text/plain": [
       "[('ad1', 1879.119372732446),\n",
       " ('ad2', 300.72246675135904),\n",
       " ('ad3', 434.25035514573847),\n",
       " ('ad4', 1191.3331303718098),\n",
       " ('ad5', 1555.6128652379841),\n",
       " ('ad6', 1175.932519124003),\n",
       " ('ad7', 1067.690606046722),\n",
       " ('ad8', 953.2716519426701),\n",
       " ('ad9', 333.7437972270547),\n",
       " ('ad10', 343.8519293866644),\n",
       " ('ad11', 529.4673136079931),\n",
       " ('ad12', 477.79775002878955),\n",
       " ('ad13', 2171.704237172643),\n",
       " ('ad14', 2267.5256604834326),\n",
       " ('ad15', 951.0018830599919),\n",
       " ('ad16', 615.4953968309144),\n",
       " ('ad17', 375.73408542117613),\n",
       " ('ad18', 914.8816975429852),\n",
       " ('ad19', 1398.108323366737),\n",
       " ('ad20', 1202.3223841671784)]"
      ]
     },
     "metadata": {},
     "output_type": "display_data"
    }
   ],
   "source": [
    "# Display the total time purchased and the \n",
    "# amount of each ad purchased using the code below:\n",
    "%gams_pull x totalAdTime\n",
    "totalAdTime = totalAdTime[0]\n",
    "c = [(x[i][0],x[i][1]) for i in range(0,len(x))]\n",
    "print(\"totalAdTime = \",totalAdTime)\n",
    "display(c)"
   ]
  },
  {
   "cell_type": "markdown",
   "metadata": {},
   "source": [
    "### Write a GAMS qcp model that will determine the number of minutes of each advertising spot to purchase.  \n",
    "You will need to add some auxiliary variables.  \n",
    "Ensure your code works with at least two of the solvers (cplexd, mosek and gurobi)."
   ]
  },
  {
   "cell_type": "code",
   "execution_count": 5,
   "metadata": {},
   "outputs": [
    {
     "data": {
      "text/html": [
       "<div>\n",
       "<style scoped>\n",
       "    .dataframe tbody tr th:only-of-type {\n",
       "        vertical-align: middle;\n",
       "    }\n",
       "\n",
       "    .dataframe tbody tr th {\n",
       "        vertical-align: top;\n",
       "    }\n",
       "\n",
       "    .dataframe thead th {\n",
       "        text-align: right;\n",
       "    }\n",
       "</style>\n",
       "<table border=\"1\" class=\"dataframe\">\n",
       "  <thead>\n",
       "    <tr style=\"text-align: right;\">\n",
       "      <th></th>\n",
       "      <th>Solver Status</th>\n",
       "      <th>Model Status</th>\n",
       "      <th>Objective</th>\n",
       "      <th>#equ</th>\n",
       "      <th>#var</th>\n",
       "      <th>Model Type</th>\n",
       "      <th>Solver</th>\n",
       "      <th>Solver Time</th>\n",
       "    </tr>\n",
       "  </thead>\n",
       "  <tbody>\n",
       "    <tr>\n",
       "      <td>0</td>\n",
       "      <td>Normal (1)</td>\n",
       "      <td>Optimal Global (1)</td>\n",
       "      <td>1.970912e+06</td>\n",
       "      <td>3</td>\n",
       "      <td>21</td>\n",
       "      <td>QCP</td>\n",
       "      <td>CPLEXD</td>\n",
       "      <td>0.015</td>\n",
       "    </tr>\n",
       "    <tr>\n",
       "      <td>1</td>\n",
       "      <td>Normal (1)</td>\n",
       "      <td>Optimal Global (1)</td>\n",
       "      <td>1.970912e+06</td>\n",
       "      <td>3</td>\n",
       "      <td>21</td>\n",
       "      <td>QCP</td>\n",
       "      <td>MOSEK</td>\n",
       "      <td>0</td>\n",
       "    </tr>\n",
       "  </tbody>\n",
       "</table>\n",
       "</div>"
      ],
      "text/plain": [
       "  Solver Status        Model Status     Objective #equ #var Model Type  \\\n",
       "0    Normal (1)  Optimal Global (1)  1.970912e+06    3   21        QCP   \n",
       "1    Normal (1)  Optimal Global (1)  1.970912e+06    3   21        QCP   \n",
       "\n",
       "   Solver Solver Time  \n",
       "0  CPLEXD       0.015  \n",
       "1   MOSEK           0  "
      ]
     },
     "execution_count": 5,
     "metadata": {},
     "output_type": "execute_result"
    }
   ],
   "source": [
    "%%gams\n",
    "positive variable y(I);\n",
    "variable objqcp;\n",
    "\n",
    "equation eqqcpobj;\n",
    "eqqcpobj.. objqcp =e= sum(I, c(I)*y(I)*y(I) ); \n",
    "\n",
    "equation eqqcpk1;\n",
    "eqqcpk1.. K1 =l= sum(I, alpha(I)*y(I) ); \n",
    "\n",
    "equation eqqcpk2;\n",
    "eqqcpk2.. K2 =l= sum(I, beta(I)*y(I) );\n",
    "\n",
    "model advertqcp /eqqcpobj,eqqcpk1,eqqcpk2/;\n",
    "\n",
    "option qcp=cplexd;\n",
    "solve advertqcp using QCP min objqcp;\n",
    "result(\"cplexd\",\"ObjVal\") = objqcp.L;\n",
    "\n",
    "option qcp=mosek;\n",
    "solve advertqcp using QCP min objqcp;\n",
    "result(\"mosek\",\"ObjVal\") = objqcp.L;\n",
    "\n",
    "*option qcp=gurobi;\n",
    "*solve advertqcp using QCP min objqcp;\n",
    "*result(\"gurobi\",\"ObjVal\") = objqcp.L;\n",
    "\n",
    "display result;\n",
    "display y.L;\n",
    "totalAdTime = sum(I,y.L(I)*y.L(I) );\n",
    "display totalAdTime;\n",
    "x.L(I) = y.L(I)*y.L(I);\n",
    "display x.L;"
   ]
  },
  {
   "cell_type": "code",
   "execution_count": 6,
   "metadata": {},
   "outputs": [
    {
     "name": "stdout",
     "output_type": "stream",
     "text": [
      "totalAdTime =  20139.56570590702\n"
     ]
    },
    {
     "data": {
      "text/plain": [
       "[('ad1', 1879.1126751054874),\n",
       " ('ad2', 300.7269045910207),\n",
       " ('ad3', 434.2544740584903),\n",
       " ('ad4', 1191.3307116658127),\n",
       " ('ad5', 1555.6081863567183),\n",
       " ('ad6', 1175.9301062195957),\n",
       " ('ad7', 1067.6889174809924),\n",
       " ('ad8', 953.2742602577965),\n",
       " ('ad9', 333.74799372665836),\n",
       " ('ad10', 343.85617981786805),\n",
       " ('ad11', 529.470970963317),\n",
       " ('ad12', 477.8014069603594),\n",
       " ('ad13', 2171.695824864411),\n",
       " ('ad14', 2267.5165812111472),\n",
       " ('ad15', 951.0044278619987),\n",
       " ('ad16', 615.4991345596814),\n",
       " ('ad17', 375.73805191231355),\n",
       " ('ad18', 914.8843416792656),\n",
       " ('ad19', 1398.1046255591334),\n",
       " ('ad20', 1202.3199310549535)]"
      ]
     },
     "metadata": {},
     "output_type": "display_data"
    }
   ],
   "source": [
    "# Display the total time purchased and the \n",
    "# amount of each ad purchased using the code below:\n",
    "%gams_pull x totalAdTime\n",
    "totalAdTime = totalAdTime[0]\n",
    "c = [(x[i][0],x[i][1]) for i in range(0,len(x))]\n",
    "print(\"totalAdTime = \",totalAdTime)\n",
    "display(c)"
   ]
  },
  {
   "cell_type": "code",
   "execution_count": null,
   "metadata": {},
   "outputs": [],
   "source": []
  }
 ],
 "metadata": {
  "kernelspec": {
   "display_name": "Python 3",
   "language": "python",
   "name": "python3"
  },
  "language_info": {
   "codemirror_mode": {
    "name": "ipython",
    "version": 3
   },
   "file_extension": ".py",
   "mimetype": "text/x-python",
   "name": "python",
   "nbconvert_exporter": "python",
   "pygments_lexer": "ipython3",
   "version": "3.6.9"
  }
 },
 "nbformat": 4,
 "nbformat_minor": 2
}
