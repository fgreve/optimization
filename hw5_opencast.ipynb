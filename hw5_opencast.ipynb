{
 "cells": [
  {
   "cell_type": "markdown",
   "metadata": {},
   "source": [
    "# Open cast mining\n",
    "\n",
    "An opencast uranium mine is being prospected.  Based on the results of\n",
    "some test drillings the mine has been subdivided into exploitation units\n",
    "called blocks.  The pit needs to be terraced to allow the trucks to drive\n",
    "down to its bottom.  The uranium deposit extends from east to west.\n",
    "The pit is limited in the west by a village and in the east by a group of\n",
    "mountains.  Taking into account these constraints, 18 blocks of 10,000\n",
    "tonnes on three levels have been identified:\n",
    "\n",
    "|Level   |c1|c2|c3|c4  |c5  |c6  |c7 |c8|\n",
    "|--------|--|--|--|----|----|----|---|--|\n",
    "|Level 1 |1 |2 |3 |4   |5   |6   |7  |8 |\n",
    "|Level 2 |  |9 |10|11  |12  |13  |14 |  |\n",
    "|Level 3 |  |  |15|16  |17  |18  |   |  |\n",
    "\n",
    "To extract a block, three blocks of the level above it need to be extracted:\n",
    "the block immediately on top of it, and also due to the constraints on the\n",
    "slope, the blocks to the right and the left.\n",
    "\n",
    "It costs \\\\$100 per tonne to extract a block of level 1, \\\\$200 per tonne for\n",
    "a block of level 2, and \\\\$300 per tonne for a block of level 3, with the\n",
    "exception of blocks 9, 14, 15, 16 and 18, that are formed of a very hard rock\n",
    "rich in quartz and cost \\\\$1000 per tonne.  The only blocks that contain\n",
    "uranium are 1, 7, 10, 12, 17 and 18.\n",
    "Their market value is 200, 300, 500, 200, 1000 and \\\\$1200/tonne respectively.\n",
    "\n",
    "### Which blocks should be extracted to maximize the total benefit?"
   ]
  },
  {
   "cell_type": "code",
   "execution_count": 1,
   "metadata": {
    "scrolled": true
   },
   "outputs": [],
   "source": [
    "# Load the gams extension\n",
    "%load_ext gams_magic"
   ]
  },
  {
   "cell_type": "code",
   "execution_count": 2,
   "metadata": {},
   "outputs": [
    {
     "data": {
      "text/html": [
       "<div>\n",
       "<style scoped>\n",
       "    .dataframe tbody tr th:only-of-type {\n",
       "        vertical-align: middle;\n",
       "    }\n",
       "\n",
       "    .dataframe tbody tr th {\n",
       "        vertical-align: top;\n",
       "    }\n",
       "\n",
       "    .dataframe thead th {\n",
       "        text-align: right;\n",
       "    }\n",
       "</style>\n",
       "<table border=\"1\" class=\"dataframe\">\n",
       "  <thead>\n",
       "    <tr style=\"text-align: right;\">\n",
       "      <th></th>\n",
       "      <th>Solver Status</th>\n",
       "      <th>Model Status</th>\n",
       "      <th>Objective</th>\n",
       "      <th>#equ</th>\n",
       "      <th>#var</th>\n",
       "      <th>Model Type</th>\n",
       "      <th>Solver</th>\n",
       "      <th>Solver Time</th>\n",
       "    </tr>\n",
       "  </thead>\n",
       "  <tbody>\n",
       "    <tr>\n",
       "      <td>0</td>\n",
       "      <td>Normal (1)</td>\n",
       "      <td>Optimal Global (1)</td>\n",
       "      <td>300.0</td>\n",
       "      <td>17</td>\n",
       "      <td>25</td>\n",
       "      <td>MIP</td>\n",
       "      <td>CPLEX</td>\n",
       "      <td>1.344</td>\n",
       "    </tr>\n",
       "  </tbody>\n",
       "</table>\n",
       "</div>"
      ],
      "text/plain": [
       "  Solver Status        Model Status  Objective #equ #var Model Type Solver  \\\n",
       "0    Normal (1)  Optimal Global (1)      300.0   17   25        MIP  CPLEX   \n",
       "\n",
       "  Solver Time  \n",
       "0       1.344  "
      ]
     },
     "execution_count": 2,
     "metadata": {},
     "output_type": "execute_result"
    }
   ],
   "source": [
    "%%gams\n",
    "set c /c1*c8/;\n",
    "set lev /1*3/;\n",
    "\n",
    "table block(lev,c)\n",
    "    c1 c2 c3 c4 c5 c6 c7 c8\n",
    "1   1  2  3  4  5  6  7  8\n",
    "2      9 10 11 12 13 14\n",
    "3        15 16 17 18;\n",
    "\n",
    "table cost(lev,c)\n",
    "   c1   c2   c3   c4   c5   c6   c7   c8\n",
    "1  100  100  100  100  100  100  100  100\n",
    "2      1000  200  200  200  200 1000 \n",
    "3           1000 1000 1000  300 1000;\n",
    "\n",
    "table p(lev,c)\n",
    "   c1   c2   c3   c4   c5   c6   c7   c8\n",
    "1  200                           300\n",
    "2            500       200\n",
    "3                     1000 1200;\n",
    "\n",
    "binary variable extract(lev,c);\n",
    "variable z;\n",
    "\n",
    "equations extractdef, obj;\n",
    "\n",
    "extractdef(lev,c)$(ord(lev)>1).. 3*extract(lev,c) =L= extract(lev-1,c-1) + extract(lev-1,c) + extract(lev-1,c+1);\n",
    "\n",
    "obj.. z =E= sum((lev,c), extract(lev,c) * ( p(lev,c) - cost(lev,c)   )     );\n",
    "\n",
    "model mining /all/;\n",
    "solve mining using mip maximizing z; \n",
    "display extract.L, z.L;\n"
   ]
  },
  {
   "cell_type": "code",
   "execution_count": 3,
   "metadata": {
    "scrolled": true
   },
   "outputs": [
    {
     "name": "stdout",
     "output_type": "stream",
     "text": [
      "       level\n",
      "block       \n",
      "1.0      1.0\n",
      "7.0      1.0\n"
     ]
    }
   ],
   "source": [
    "%gams_pull -d extract block\n",
    "import pandas as pd \n",
    "\n",
    "block.columns = ['lev', 'c', 'block']\n",
    "soln=extract.loc[extract['level'] > 0]\n",
    "soln = pd.merge(soln, block, left_on=['lev','c'], right_on=['lev','c'])\n",
    "\n",
    "soln.set_index('block',inplace=True)\n",
    "print(soln[['level']])\n"
   ]
  },
  {
   "cell_type": "code",
   "execution_count": null,
   "metadata": {},
   "outputs": [],
   "source": []
  }
 ],
 "metadata": {
  "kernelspec": {
   "display_name": "Python 3",
   "language": "python",
   "name": "python3"
  },
  "language_info": {
   "codemirror_mode": {
    "name": "ipython",
    "version": 3
   },
   "file_extension": ".py",
   "mimetype": "text/x-python",
   "name": "python",
   "nbconvert_exporter": "python",
   "pygments_lexer": "ipython3",
   "version": "3.6.9"
  }
 },
 "nbformat": 4,
 "nbformat_minor": 2
}
