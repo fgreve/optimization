{
 "cells": [
  {
   "cell_type": "markdown",
   "metadata": {},
   "source": [
    "# Glassco\n",
    "\n",
    "Glassco manufactures wine glasses, beer glasses, champagne glasses and whiskey glasses.  Each type of glass uses time in the molding shop, time in the packaging shop, and a certain amount of glass.  The resources required to make each type of glass are given in the following table:\n",
    "\n",
    "|Data          |WINE GLASS|BEER GLASS|CHMPGNE GLASS|WHISKEY GLASS|\n",
    "|--------------|----------|----------|-------------|-------------|\n",
    "|Molding time  |4 minutes |9 minutes |7 minutes    |10 minutes   |\n",
    "|Packaging time|1 minute  |1 minute  |3 minutes    |40 minutes   |\n",
    "|Glass         |3 oz      |4 oz      |2 oz         |1 oz         |\n",
    "|Selling price |\\$6       |\\$10      |\\$9          |\\$20         |\n",
    "\n",
    "At present, 600 minutes of molding time, 400 minutes of packaging time and 500 oz of glass are available.  \n",
    "\n",
    "### Write down the LP (in GAMS) that Glassco should solve, assuming the company wishes to maximize revenue."
   ]
  },
  {
   "cell_type": "code",
   "execution_count": 1,
   "metadata": {
    "scrolled": true
   },
   "outputs": [],
   "source": [
    "# Load the gams extension\n",
    "%load_ext gams_magic"
   ]
  },
  {
   "cell_type": "code",
   "execution_count": 2,
   "metadata": {},
   "outputs": [
    {
     "data": {
      "text/html": [
       "<div>\n",
       "<style scoped>\n",
       "    .dataframe tbody tr th:only-of-type {\n",
       "        vertical-align: middle;\n",
       "    }\n",
       "\n",
       "    .dataframe tbody tr th {\n",
       "        vertical-align: top;\n",
       "    }\n",
       "\n",
       "    .dataframe thead th {\n",
       "        text-align: right;\n",
       "    }\n",
       "</style>\n",
       "<table border=\"1\" class=\"dataframe\">\n",
       "  <thead>\n",
       "    <tr style=\"text-align: right;\">\n",
       "      <th></th>\n",
       "      <th>Solver Status</th>\n",
       "      <th>Model Status</th>\n",
       "      <th>Objective</th>\n",
       "      <th>#equ</th>\n",
       "      <th>#var</th>\n",
       "      <th>Model Type</th>\n",
       "      <th>Solver</th>\n",
       "      <th>Solver Time</th>\n",
       "    </tr>\n",
       "  </thead>\n",
       "  <tbody>\n",
       "    <tr>\n",
       "      <td>0</td>\n",
       "      <td>Normal (1)</td>\n",
       "      <td>Optimal Global (1)</td>\n",
       "      <td>933.3333</td>\n",
       "      <td>4</td>\n",
       "      <td>5</td>\n",
       "      <td>LP</td>\n",
       "      <td>CPLEX</td>\n",
       "      <td>0.047</td>\n",
       "    </tr>\n",
       "  </tbody>\n",
       "</table>\n",
       "</div>"
      ],
      "text/plain": [
       "  Solver Status        Model Status  Objective #equ #var Model Type Solver  \\\n",
       "0    Normal (1)  Optimal Global (1)   933.3333    4    5         LP  CPLEX   \n",
       "\n",
       "  Solver Time  \n",
       "0       0.047  "
      ]
     },
     "execution_count": 2,
     "metadata": {},
     "output_type": "execute_result"
    }
   ],
   "source": [
    "%%gams\n",
    "set j /WINE, BEER, CHMPGNE, WHISKEY/;\n",
    "set i /Molding, Packaging, Glass/;\n",
    "\n",
    "table Data(*,j)\n",
    "               WINE BEER CHMPGNE WHISKEY \n",
    "Molding          4    9     7      10\n",
    "Packaging        1    1     3      40\n",
    "Glass            3    4     2       1\n",
    "price            6   10     9      20;\n",
    "\n",
    "parameter b(i)\n",
    "    /Molding 600\n",
    "     Packaging 400\n",
    "     Glass 500/;\n",
    "     \n",
    "parameter c(j);\n",
    "c(j) = Data(\"price\",j);\n",
    "\n",
    "parameter A(i,j);\n",
    "A(i,j) = Data(i,j);\n",
    "\n",
    "nonnegative variables x(j);\n",
    "variable z;\n",
    "\n",
    "equations rprimal(i), obj;\n",
    "rprimal(i).. sum(j, A(i,j)*x(j) ) =L= b(i) ;\n",
    "obj.. z =E= sum(j, c(j)*x(j) );\n",
    "\n",
    "model primal /rprimal, obj/;\n",
    "solve primal using LP maximizing z;\n",
    "display z.l;"
   ]
  },
  {
   "cell_type": "markdown",
   "metadata": {},
   "source": [
    "### Write down the dual of this LP problem, in the same GAMS file.\n",
    "You should set up two separate models and include just those equations needed in each model in the model statement."
   ]
  },
  {
   "cell_type": "code",
   "execution_count": 3,
   "metadata": {},
   "outputs": [
    {
     "data": {
      "text/html": [
       "<div>\n",
       "<style scoped>\n",
       "    .dataframe tbody tr th:only-of-type {\n",
       "        vertical-align: middle;\n",
       "    }\n",
       "\n",
       "    .dataframe tbody tr th {\n",
       "        vertical-align: top;\n",
       "    }\n",
       "\n",
       "    .dataframe thead th {\n",
       "        text-align: right;\n",
       "    }\n",
       "</style>\n",
       "<table border=\"1\" class=\"dataframe\">\n",
       "  <thead>\n",
       "    <tr style=\"text-align: right;\">\n",
       "      <th></th>\n",
       "      <th>Solver Status</th>\n",
       "      <th>Model Status</th>\n",
       "      <th>Objective</th>\n",
       "      <th>#equ</th>\n",
       "      <th>#var</th>\n",
       "      <th>Model Type</th>\n",
       "      <th>Solver</th>\n",
       "      <th>Solver Time</th>\n",
       "    </tr>\n",
       "  </thead>\n",
       "  <tbody>\n",
       "    <tr>\n",
       "      <td>0</td>\n",
       "      <td>Normal (1)</td>\n",
       "      <td>Optimal Global (1)</td>\n",
       "      <td>933.3333</td>\n",
       "      <td>5</td>\n",
       "      <td>4</td>\n",
       "      <td>LP</td>\n",
       "      <td>CPLEX</td>\n",
       "      <td>0</td>\n",
       "    </tr>\n",
       "  </tbody>\n",
       "</table>\n",
       "</div>"
      ],
      "text/plain": [
       "  Solver Status        Model Status  Objective #equ #var Model Type Solver  \\\n",
       "0    Normal (1)  Optimal Global (1)   933.3333    5    4         LP  CPLEX   \n",
       "\n",
       "  Solver Time  \n",
       "0           0  "
      ]
     },
     "execution_count": 3,
     "metadata": {},
     "output_type": "execute_result"
    }
   ],
   "source": [
    "%%gams\n",
    "nonnegative variables x(j), y(i);\n",
    "variable zprimal;\n",
    "variable zdual;\n",
    "\n",
    "equations rprimal(i), rdual(j), objprimal, objdual;\n",
    "rprimal(i).. sum(j, A(i,j)*x(j) ) =L= b(i) ;\n",
    "rdual(j).. sum(i, A(i,j)*y(i) ) =G= c(j) ;\n",
    "\n",
    "objprimal.. zprimal =E= sum(j, c(j)*x(j) );\n",
    "objdual.. zdual =E= sum(i, b(i)*y(i) );\n",
    "\n",
    "*model primal /rprimal, objprimal/;\n",
    "*solve primal using LP maximizing zprimal;\n",
    "*display zprimal.l;\n",
    "\n",
    "model dual /rdual, objdual/;\n",
    "solve dual using LP minimizing zdual;\n",
    "display zdual.l;"
   ]
  },
  {
   "cell_type": "markdown",
   "metadata": {},
   "source": [
    "### Glassco claims that the optimal solution to the (primal) problem is $z = 2800/3$, $x_1 = 400/3$, $x_2 = 0$, $x_3 = 0$ and $x_4 = 20/3$. Is this the case?  \n",
    "Justify, and quote any relevant theory you use accurately."
   ]
  },
  {
   "cell_type": "code",
   "execution_count": 4,
   "metadata": {},
   "outputs": [
    {
     "name": "stdout",
     "output_type": "stream",
     "text": [
      "zdual: 933.33333 and z: 933.33333\n",
      "Marginal of restriction 'WINE': 133.33333 and x1: 133.33333\n",
      "Marginal of restriction 'BEER': 0.0 and x2: 0\n",
      "Marginal of restriction 'CHMPGNE': 0.0 and x3: 0\n",
      "Marginal of restriction 'WHISKEY': 6.66667 and x4: 6.66667\n"
     ]
    }
   ],
   "source": [
    "# demonstrate here or in above text box\n",
    "%gams_pull -d zdual rdual\n",
    "\n",
    "z = 2800/3\n",
    "x1 = 400/3\n",
    "x2 = 0\n",
    "x3 = 0\n",
    "x4 = 20/3\n",
    "\n",
    "#print(rdual)\n",
    "print(\"zdual:\", round(zdual.level.values.item(0),5), \"and z:\", round(z,5) )\n",
    "print(\"Marginal of restriction 'WINE':\", round(rdual.loc[rdual['j']=='WINE'].marginal.values.item(0),5), \"and x1:\", round(x1,5) )\n",
    "print(\"Marginal of restriction 'BEER':\", round(rdual.loc[rdual['j']=='BEER'].marginal.values.item(0),5), \"and x2:\", round(x2,5) )\n",
    "print(\"Marginal of restriction 'CHMPGNE':\", round(rdual.loc[rdual['j']=='CHMPGNE'].marginal.values.item(0),5), \"and x3:\", round(x3,5) )\n",
    "print(\"Marginal of restriction 'WHISKEY':\", round(rdual.loc[rdual['j']=='WHISKEY'].marginal.values.item(0),5), \"and x4:\", round(x4,5) )\n"
   ]
  },
  {
   "cell_type": "markdown",
   "metadata": {},
   "source": [
    "### What is the solution of the dual problem?  Can you show how the multipliers on the primal problem are related to the dual solution?"
   ]
  },
  {
   "cell_type": "code",
   "execution_count": 5,
   "metadata": {},
   "outputs": [
    {
     "name": "stdout",
     "output_type": "stream",
     "text": [
      "zdual: 933.33333\n",
      "Dual solution for 'Molding': 1.4666666666666666\n",
      "Dual solution for 'Packaging': 0.13333333333333336\n",
      "Dual solution for 'Glass': 0.0\n"
     ]
    }
   ],
   "source": [
    "# dual solution here\n",
    "%gams_pull -d zdual y\n",
    "#print(y)\n",
    "y1 = y.loc[y['i']=='Molding'].level.values.item(0)\n",
    "y2 = y.loc[y['i']=='Packaging'].level.values.item(0)\n",
    "y3 = y.loc[y['i']=='Glass'].level.values.item(0)\n",
    "\n",
    "print(\"zdual:\", round(zdual.level.values.item(0),5) )\n",
    "print(\"Dual solution for 'Molding':\", y1 )\n",
    "print(\"Dual solution for 'Packaging':\", y2 )\n",
    "print(\"Dual solution for 'Glass':\", y3 )\n"
   ]
  },
  {
   "cell_type": "code",
   "execution_count": 6,
   "metadata": {},
   "outputs": [
    {
     "name": "stdout",
     "output_type": "stream",
     "text": [
      "Marginal of restriction 'Molding': 1.46667 and y1: 1.46667\n",
      "Marginal of restriction 'Packaging': 0.13333 and y2: 0.13333\n",
      "Marginal of restriction 'Glass': 0.0 and y3: 0.0\n"
     ]
    }
   ],
   "source": [
    "# demonstrate how related here (maybe also use markdown cell)\n",
    "%gams_pull -d rprimal\n",
    "#print(rprimal)\n",
    "print(\"Marginal of restriction 'Molding':\", round(rprimal.loc[rprimal['i']=='Molding'].marginal.values.item(0),5), \"and y1:\", round(y1,5) )\n",
    "print(\"Marginal of restriction 'Packaging':\", round(rprimal.loc[rprimal['i']=='Packaging'].marginal.values.item(0),5), \"and y2:\", round(y2,5) )\n",
    "print(\"Marginal of restriction 'Glass':\", round(rprimal.loc[rprimal['i']=='Glass'].marginal.values.item(0),5), \"and y3:\", round(y3,5) )\n"
   ]
  }
 ],
 "metadata": {
  "kernelspec": {
   "display_name": "Python 3",
   "language": "python",
   "name": "python3"
  },
  "language_info": {
   "codemirror_mode": {
    "name": "ipython",
    "version": 3
   },
   "file_extension": ".py",
   "mimetype": "text/x-python",
   "name": "python",
   "nbconvert_exporter": "python",
   "pygments_lexer": "ipython3",
   "version": "3.6.9"
  }
 },
 "nbformat": 4,
 "nbformat_minor": 2
}
