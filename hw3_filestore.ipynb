{
 "cells": [
  {
   "cell_type": "markdown",
   "metadata": {},
   "source": [
    "# File Storage\n",
    "\n",
    "Currently, the State University can store 200 files on hard disk,\n",
    "100 files in computer memory, and 300 files on the cloud.\n",
    "Users want to store 300 word-processing files, 100 packaged-program files,\n",
    "and 100 data files.\n",
    "Each month a typical word-processing file is accessed 8 times,\n",
    "a typical packaged-program file 4 times, and a typical data file 2 times.\n",
    "When a file is accessed, the time is takes for the file to be retrieved\n",
    "depends on the type of file and the storage medium:<br>\n",
    "\n",
    "|         |Word-Proc|Package-Prog|Data|\n",
    "|---------|---------|------------|----|\n",
    "|Hard Disk|5        |4           |4   |\n",
    "|Memory   |2        |1           |1   |\n",
    "|Cloud    |10       |8           |6   |\n",
    "\n",
    "### The goal is to minimize the total time per month that users spend accessing their files.  Determine where files should be stored."
   ]
  },
  {
   "cell_type": "code",
   "execution_count": 1,
   "metadata": {},
   "outputs": [],
   "source": [
    "# Load the gams extension\n",
    "%load_ext gams_magic"
   ]
  },
  {
   "cell_type": "markdown",
   "metadata": {},
   "source": [
    "__The GAMS Model:__"
   ]
  },
  {
   "cell_type": "code",
   "execution_count": 2,
   "metadata": {},
   "outputs": [
    {
     "data": {
      "text/html": [
       "<div>\n",
       "<style scoped>\n",
       "    .dataframe tbody tr th:only-of-type {\n",
       "        vertical-align: middle;\n",
       "    }\n",
       "\n",
       "    .dataframe tbody tr th {\n",
       "        vertical-align: top;\n",
       "    }\n",
       "\n",
       "    .dataframe thead th {\n",
       "        text-align: right;\n",
       "    }\n",
       "</style>\n",
       "<table border=\"1\" class=\"dataframe\">\n",
       "  <thead>\n",
       "    <tr style=\"text-align: right;\">\n",
       "      <th></th>\n",
       "      <th>Solver Status</th>\n",
       "      <th>Model Status</th>\n",
       "      <th>Objective</th>\n",
       "      <th>#equ</th>\n",
       "      <th>#var</th>\n",
       "      <th>Model Type</th>\n",
       "      <th>Solver</th>\n",
       "      <th>Solver Time</th>\n",
       "    </tr>\n",
       "  </thead>\n",
       "  <tbody>\n",
       "    <tr>\n",
       "      <td>0</td>\n",
       "      <td>Normal (1)</td>\n",
       "      <td>Optimal Global (1)</td>\n",
       "      <td>14000.0</td>\n",
       "      <td>7</td>\n",
       "      <td>10</td>\n",
       "      <td>LP</td>\n",
       "      <td>CPLEX</td>\n",
       "      <td>0</td>\n",
       "    </tr>\n",
       "  </tbody>\n",
       "</table>\n",
       "</div>"
      ],
      "text/plain": [
       "  Solver Status        Model Status  Objective #equ #var Model Type Solver  \\\n",
       "0    Normal (1)  Optimal Global (1)    14000.0    7   10         LP  CPLEX   \n",
       "\n",
       "  Solver Time  \n",
       "0           0  "
      ]
     },
     "execution_count": 2,
     "metadata": {},
     "output_type": "execute_result"
    }
   ],
   "source": [
    "%%gams\n",
    "\n",
    "Set\n",
    "    medium 'medium to process file' / Hard_Disk, Memory, Cloud /,\n",
    "    ftype 'type of file' / Word_Proc, Package_Prog, Data /;\n",
    "    \n",
    "Table time(medium,ftype) 'the time it takes for the file to be retrieved'\n",
    "               Word_Proc Package_Prog Data\n",
    "    Hard_Disk   5           4         4\n",
    "    Memory      2           1         1\n",
    "    Cloud       10          8         6;\n",
    "\n",
    "Parameter space(medium) 'Current store capacity'  / Hard_Disk  200,\n",
    "                                                    Memory     100,\n",
    "                                                    Cloud      300 /;\n",
    "\n",
    "Parameter users(ftype) 'Users demand for storage'  / Word_Proc       300,\n",
    "                                                     Package_Prog    100,\n",
    "                                                     Data            100 /;\n",
    "                                            \n",
    "Parameter  access(ftype) 'typical access for each type of file'   / Word_Proc       8,\n",
    "                                                                    Package_Prog    4,\n",
    "                                                                    Data            2 /;\n",
    "                                                                \n",
    "Variables\n",
    "    x(medium,ftype)      'amount of the file ftype processed by i'\n",
    "    z                    'total time';\n",
    "   \n",
    "Positive Variable x;\n",
    "\n",
    "Equation\n",
    "    space_max(medium) 'Currently, the State University can store'\n",
    "    users_demand(ftype) 'Users want to store'\n",
    "    obj 'calculate the cost of the optimal steel composition'\n",
    "    ;\n",
    "    \n",
    "    space_max(medium).. sum(ftype, x(medium,ftype)) =l= space(medium);\n",
    "    users_demand(ftype).. sum(medium,x(medium,ftype)) =e= users(ftype);\n",
    "    obj.. sum((medium,ftype), x(medium,ftype)*time(medium,ftype)*access(ftype))=e= z;\n",
    "\n",
    "model prob /all/;\n",
    "Options LP  = Cplex;\n",
    "Solve prob using LP minimizing z;\n",
    "display z.l, x.l;\n"
   ]
  },
  {
   "cell_type": "markdown",
   "metadata": {},
   "source": [
    "__Pull the variable values from GAMS and display in bar chart:__"
   ]
  },
  {
   "cell_type": "code",
   "execution_count": 5,
   "metadata": {
    "scrolled": true
   },
   "outputs": [
    {
     "data": {
      "image/png": "[encoded data removed]",
      "text/plain": [
       "<Figure size 432x288 with 1 Axes>"
      ]
     },
     "metadata": {
      "needs_background": "light"
     },
     "output_type": "display_data"
    }
   ],
   "source": [
    "# Pull the values of x from GAMS to Python as a pandas dataframe\n",
    "%gams_pull -d x\n",
    "\n",
    "results = x.groupby(['medium','ftype'],sort=False)['level'].sum().unstack(level=1).plot(kind='bar',stacked=True)\n"
   ]
  },
  {
   "cell_type": "code",
   "execution_count": null,
   "metadata": {},
   "outputs": [],
   "source": []
  }
 ],
 "metadata": {
  "kernelspec": {
   "display_name": "Python 3",
   "language": "python",
   "name": "python3"
  },
  "language_info": {
   "codemirror_mode": {
    "name": "ipython",
    "version": 3
   },
   "file_extension": ".py",
   "mimetype": "text/x-python",
   "name": "python",
   "nbconvert_exporter": "python",
   "pygments_lexer": "ipython3",
   "version": "3.6.9"
  }
 },
 "nbformat": 4,
 "nbformat_minor": 2
}
