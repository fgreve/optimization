{
 "cells": [
  {
   "cell_type": "markdown",
   "metadata": {},
   "source": [
    "# Crop planning\n",
    "Farmer Jane owns __45 acres of land__.<br>\n",
    "She is going to plant each with __wheat__ or __corn__.<br>\n",
    "Each acre planted with wheat yields __\\\\$200__ profit; each with corn yields __\\\\$300__ profit.<br>\n",
    "__The labor__ and __fertilizer__ used for each acre are given in the table below. <br>\n",
    "__100 workers__ and __120 tons of fertilizer__ are available.\n",
    "\n",
    "|&nbsp;| Wheat|Corn|\n",
    "|:-------|-------:|-------:|\n",
    "|Labor(workers)|3|2|\n",
    "|Fertilizer(tons)|2|4|\n",
    "\n",
    "How should Jane plant her crops to maximize profit?"
   ]
  },
  {
   "cell_type": "markdown",
   "metadata": {},
   "source": [
    "Running the following code section will allow you to __manually__ choose the amount of corn and wheat that you will plant.<br>\n",
    "Try to find the __maximum profit__.<br>\n",
    "Then model and solve this problem using GAMS, check if the solution you found manually is optimal."
   ]
  },
  {
   "cell_type": "code",
   "execution_count": 1,
   "metadata": {},
   "outputs": [
    {
     "data": {
      "application/vnd.jupyter.widget-view+json": {
       "model_id": "e9565337f0134e479a033081e0d7b272",
       "version_major": 2,
       "version_minor": 0
      },
      "text/plain": [
       "VBox(children=(HTML(value='<h3>Play with the sliders and see what profit you would get</h3>'), HBox(children=(…"
      ]
     },
     "metadata": {},
     "output_type": "display_data"
    }
   ],
   "source": [
    "# Import the Python package for interactivity\n",
    "import ipywidgets as widgets\n",
    "\n",
    "# Load the GAMS extension\n",
    "%load_ext gams_magic\n",
    "\n",
    "def calc_total_acres(wheat_amount, corn_amount):\n",
    "    print(\"{} + {} = {} Acres Planted.\".format(wheat_amount, corn_amount, wheat_amount + corn_amount))\n",
    "    if wheat_amount + corn_amount > 45:\n",
    "        print(\"(Infeasible)\")\n",
    "    \n",
    "def calc_total_workers(wheat_amount, corn_amount):\n",
    "    print(\"3 * {} + 2 * {} = {} Worker used.\".format(wheat_amount, corn_amount, (3 * wheat_amount) + (2 * corn_amount)))\n",
    "    if (3 * wheat_amount) + (2 * corn_amount) > 100:\n",
    "        print(\"(Infeasible)\")\n",
    "        \n",
    "def calc_total_fertilizers(wheat_amount, corn_amount):\n",
    "    print(\"2 * {} + 4 * {} = {} tons of Fertilizers used.\".format(wheat_amount, corn_amount, (2 * wheat_amount) + (4 * corn_amount)))\n",
    "    if (2 * wheat_amount) + (4 * corn_amount) > 120:\n",
    "        print(\"(Infeasible)\")\n",
    "        \n",
    "def calc_profit(wheat_amount, corn_amount):\n",
    "    print(\"200 * {} + 300 * {} = $ {} profit.\".format(wheat_amount, corn_amount, (200 * wheat_amount) + (300 * corn_amount)))\n",
    "\n",
    "wheat_amount = widgets.IntSlider(value=0, min=0, max=45, description=\"Wheat(acres)\")\n",
    "corn_amount = widgets.IntSlider(value=0, min=0, max=45, description=\"Corn(acres)\")\n",
    "\n",
    "total_acres = widgets.interactive_output(calc_total_acres, {'wheat_amount': wheat_amount, 'corn_amount': corn_amount})\n",
    "total_workers = widgets.interactive_output(calc_total_workers, {'wheat_amount': wheat_amount, 'corn_amount': corn_amount})\n",
    "total_fertilizers = widgets.interactive_output(calc_total_fertilizers, {'wheat_amount': wheat_amount, 'corn_amount': corn_amount}) \n",
    "total_profit = widgets.interactive_output(calc_profit, {'wheat_amount': wheat_amount, 'corn_amount': corn_amount}) \n",
    "\n",
    "\n",
    "sliders = widgets.VBox([wheat_amount, corn_amount])\n",
    "acres_and_workers_used =  widgets.VBox([total_acres, total_workers])\n",
    "fertilizers_and_profit = widgets.VBox([total_fertilizers, total_profit])\n",
    "\n",
    "\n",
    "widgets.VBox([widgets.HTML(value=\"<h3>Play with the sliders and see what profit you would get</h3>\"), widgets.HBox([ sliders , acres_and_workers_used, fertilizers_and_profit])])"
   ]
  },
  {
   "cell_type": "markdown",
   "metadata": {},
   "source": [
    "### Write a GAMS model and check your previous solution\n",
    "\n",
    "For this script to work:<br>\n",
    "- Make sure you named decision variable for acres of wheat to be planted as __WHEAT__<br>\n",
    "- Make sure you named decision variable for acres of corn to be planted as __CORN__<br>\n",
    "- Make sure you named decision variable for objective as __PI__<br>\n",
    "- Or change pull statement below according to your naming convention<br>\n",
    "\n",
    "After __%%gams__ you can type your GAMS model in the same cell."
   ]
  },
  {
   "cell_type": "code",
   "execution_count": 3,
   "metadata": {},
   "outputs": [
    {
     "data": {
      "text/html": [
       "<div>\n",
       "<style scoped>\n",
       "    .dataframe tbody tr th:only-of-type {\n",
       "        vertical-align: middle;\n",
       "    }\n",
       "\n",
       "    .dataframe tbody tr th {\n",
       "        vertical-align: top;\n",
       "    }\n",
       "\n",
       "    .dataframe thead th {\n",
       "        text-align: right;\n",
       "    }\n",
       "</style>\n",
       "<table border=\"1\" class=\"dataframe\">\n",
       "  <thead>\n",
       "    <tr style=\"text-align: right;\">\n",
       "      <th></th>\n",
       "      <th>Solver Status</th>\n",
       "      <th>Model Status</th>\n",
       "      <th>Objective</th>\n",
       "      <th>#equ</th>\n",
       "      <th>#var</th>\n",
       "      <th>Model Type</th>\n",
       "      <th>Solver</th>\n",
       "      <th>Solver Time</th>\n",
       "    </tr>\n",
       "  </thead>\n",
       "  <tbody>\n",
       "    <tr>\n",
       "      <td>0</td>\n",
       "      <td>Normal (1)</td>\n",
       "      <td>Optimal Global (1)</td>\n",
       "      <td>10000.0</td>\n",
       "      <td>4</td>\n",
       "      <td>3</td>\n",
       "      <td>LP</td>\n",
       "      <td>CPLEX</td>\n",
       "      <td>0</td>\n",
       "    </tr>\n",
       "  </tbody>\n",
       "</table>\n",
       "</div>"
      ],
      "text/plain": [
       "  Solver Status        Model Status  Objective #equ #var Model Type Solver  \\\n",
       "0    Normal (1)  Optimal Global (1)    10000.0    4    3         LP  CPLEX   \n",
       "\n",
       "  Solver Time  \n",
       "0           0  "
      ]
     },
     "execution_count": 3,
     "metadata": {},
     "output_type": "execute_result"
    }
   ],
   "source": [
    "%%gams\n",
    "Set\n",
    "    i 'inputs'  / labor, fertilizer /    \n",
    "    j 'crops'  / WHEAT, CORN /;\n",
    "\n",
    "\n",
    "Table t(i,j) 'production technology'\n",
    "                        WHEAT    CORN\n",
    "        labor           3        2\n",
    "        fertilizer      2        4;\n",
    "\n",
    "\n",
    "Parameter\n",
    "    yields(j) 'yield of each acre planted with j'\n",
    "        / WHEAT  200 \n",
    "          CORN   300 /;\n",
    "\n",
    "Variables\n",
    "    WHEAT 'acres of wheat to be planted'\n",
    "    CORN  'acres of corn to be planted'\n",
    "    PI    'objective'\n",
    "   \n",
    "Positive Variable WHEAT, CORN;  \n",
    "\n",
    "Equation\n",
    "    obj 'calculate the profits',\n",
    "    lands_eq 'planted lands must be less than lands owned by Jane',\n",
    "    workers_eq 'workers must be less than the total',  \n",
    "    fertilizer_eq 'fertilizer must be less than the total';\n",
    "\n",
    "    lands_eq.. WHEAT + CORN =l= 45; \n",
    "    workers_eq.. WHEAT*t('labor','WHEAT') + CORN*t('labor','CORN') =l= 100; \n",
    "    fertilizer_eq.. WHEAT*t('fertilizer','WHEAT') + CORN*t('fertilizer','CORN') =l= 120; \n",
    "    obj.. WHEAT*yields('WHEAT') + CORN*yields('CORN') =e= PI;\n",
    "\n",
    "model prob /all/;\n",
    "\n",
    "Options LP  = Cplex;\n",
    "\n",
    "Solve prob using LP maximizing PI;"
   ]
  },
  {
   "cell_type": "code",
   "execution_count": 4,
   "metadata": {},
   "outputs": [
    {
     "name": "stdout",
     "output_type": "stream",
     "text": [
      "Acres of wheat computed by GAMS: 20.0\n",
      "Acres of corn computed by GAMS: 20.0\n",
      "Maximum profit achieveable is: $10000.0\n"
     ]
    }
   ],
   "source": [
    "# Pull variable values from GAMS to Python\n",
    "%gams_pull wheat corn pi\n",
    "print(\"Acres of wheat computed by GAMS: \" + str(wheat[0][0]))\n",
    "print(\"Acres of corn computed by GAMS: \" + str(corn[0][0]))\n",
    "print(\"Maximum profit achieveable is: $\" + str(pi[0][0]))"
   ]
  },
  {
   "cell_type": "markdown",
   "metadata": {},
   "source": [
    "### Solve the problem graphically and confirm that you obtain the same solution"
   ]
  },
  {
   "cell_type": "code",
   "execution_count": 1,
   "metadata": {},
   "outputs": [
    {
     "name": "stderr",
     "output_type": "stream",
     "text": [
      "UsageError: Line magic function `%gams_pull` not found.\n"
     ]
    }
   ],
   "source": [
    "# imports for plotting\n",
    "import matplotlib\n",
    "import matplotlib.pyplot as plt\n",
    "import numpy as np\n",
    "\n",
    "# This function can be provided to students\n",
    "def abline(slope, intercept, label):\n",
    "    \"\"\"Plot a line from slope and intercept\"\"\"\n",
    "    axes = plt.gca()\n",
    "    x_vals = np.array(axes.get_xlim())\n",
    "    y_vals = intercept + slope * x_vals\n",
    "    plt.plot(x_vals, y_vals, label=label)\n",
    "\n",
    "# This function can also be provided to students\n",
    "def axbyc(a, b, c, label):\n",
    "    abline(-a/b ,c/b, label)\n",
    "\n",
    "# Students can be asked to fill xlim and ylim\n",
    "fig, ax = plt.subplots()\n",
    "plt.xlim((0, 60))   \n",
    "plt.ylim((0, 50))\n",
    "\n",
    "axbyc(3, 2, 100, \"Workers\")\n",
    "axbyc(2, 4, 120, \"Fertilizers\")\n",
    "axbyc(1, 1, 45, \"Land\")\n",
    "axbyc(200, 300, 10000, \"Objective\")\n",
    "\n",
    "# You can use ax.fill(x_coords, y_coords)\n",
    "# to fill a polygon\n",
    "ax.fill([0,20,33,0], [30,20,0,0], \"g\") \n",
    "\n",
    "plt.legend(loc='upper right')\n",
    "plt.show()"
   ]
  },
  {
   "cell_type": "code",
   "execution_count": null,
   "metadata": {},
   "outputs": [],
   "source": []
  }
 ],
 "metadata": {
  "kernelspec": {
   "display_name": "Python 3",
   "language": "python",
   "name": "python3"
  },
  "language_info": {
   "codemirror_mode": {
    "name": "ipython",
    "version": 3
   },
   "file_extension": ".py",
   "mimetype": "text/x-python",
   "name": "python",
   "nbconvert_exporter": "python",
   "pygments_lexer": "ipython3",
   "version": "3.6.9"
  }
 },
 "nbformat": 4,
 "nbformat_minor": 2
}
