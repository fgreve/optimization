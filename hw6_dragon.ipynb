{
 "cells": [
  {
   "cell_type": "markdown",
   "metadata": {},
   "source": [
    "# Dragon Transport\n",
    "\n",
    "Given your great Optimization Wizard training, the Ministry of Magic has asked that you transport 20 dragons from Romania to Hogwarts for the Triwizard tournament.   The dragons will be transported on a route through five cities, with a choice of three different modes of transport between each of the pairs of cities on the route.\n",
    "The route to be followed is exactly:\n",
    "\n",
    "1. Romania\n",
    "2. Transylvania\n",
    "3. Egypt\n",
    "4. Godric's Hollow\n",
    "5. Hogwarts\n",
    "\n",
    "On each leg of the route, the dragons are to all be transported by Hogwarts Express (Train), Portkey, or Thestral.  In any of the intermediate cities, it is possible to change the mode of transport, but you must use a single mode of transport for all the dragons between two consecutive cities.  The following table lists the cost of transport in galleons per dragon between the pairs of cities:\n",
    "\n",
    "|Pairs of cities|1-2 |2-3 |3-4 |4-5 |\n",
    "|---------------|----|----|----|----|\n",
    "|Train          |30  |25  |40  |60  |\n",
    "|Portkey        |25  |40  |45  |50  |\n",
    "|Thestral       |40  |20  |50  |45  |\n",
    "\n",
    "The next table shows the cost of changing the mode of transport in galleons/dragon.  (This cost is independent of the location at which the change is made):\n",
    "\n",
    "|From/To |Train |Portkey |Thestral |\n",
    "|--------|------|--------|---------|\n",
    "|Train   |0     |5       |12       |\n",
    "|Portkey |8     |0       |10       |\n",
    "|Thestral|15    |10      |0        |\n",
    "\n",
    "### How should the transport be organized to minimize the cost?  What is the minimum cost for transporting the 20 dragons?"
   ]
  },
  {
   "cell_type": "code",
   "execution_count": 1,
   "metadata": {
    "scrolled": true
   },
   "outputs": [],
   "source": [
    "# Load the gams extension\n",
    "%load_ext gams_magic"
   ]
  },
  {
   "cell_type": "code",
   "execution_count": 2,
   "metadata": {},
   "outputs": [
    {
     "data": {
      "text/html": [
       "<div>\n",
       "<style scoped>\n",
       "    .dataframe tbody tr th:only-of-type {\n",
       "        vertical-align: middle;\n",
       "    }\n",
       "\n",
       "    .dataframe tbody tr th {\n",
       "        vertical-align: top;\n",
       "    }\n",
       "\n",
       "    .dataframe thead th {\n",
       "        text-align: right;\n",
       "    }\n",
       "</style>\n",
       "<table border=\"1\" class=\"dataframe\">\n",
       "  <thead>\n",
       "    <tr style=\"text-align: right;\">\n",
       "      <th></th>\n",
       "      <th>Solver Status</th>\n",
       "      <th>Model Status</th>\n",
       "      <th>Objective</th>\n",
       "      <th>#equ</th>\n",
       "      <th>#var</th>\n",
       "      <th>Model Type</th>\n",
       "      <th>Solver</th>\n",
       "      <th>Solver Time</th>\n",
       "    </tr>\n",
       "  </thead>\n",
       "  <tbody>\n",
       "    <tr>\n",
       "      <td>0</td>\n",
       "      <td>Normal (1)</td>\n",
       "      <td>Integer (8)</td>\n",
       "      <td>3000.0</td>\n",
       "      <td>77</td>\n",
       "      <td>46</td>\n",
       "      <td>MIP</td>\n",
       "      <td>CPLEX</td>\n",
       "      <td>0.016</td>\n",
       "    </tr>\n",
       "  </tbody>\n",
       "</table>\n",
       "</div>"
      ],
      "text/plain": [
       "  Solver Status Model Status  Objective #equ #var Model Type Solver  \\\n",
       "0    Normal (1)  Integer (8)     3000.0   77   46        MIP  CPLEX   \n",
       "\n",
       "  Solver Time  \n",
       "0       0.016  "
      ]
     },
     "execution_count": 2,
     "metadata": {},
     "output_type": "execute_result"
    }
   ],
   "source": [
    "%%gams\n",
    "set Modes /Train, Portkey, Thestral/; \n",
    "alias(Modes,m,mm);\n",
    "\n",
    "set Legs /1-2, 2-3, 3-4, 4-5/;\n",
    "alias(Legs,l,ll);\n",
    "\n",
    "table clegs(Modes,Legs)\n",
    "            1-2 2-3 3-4 4-5\n",
    "Train       30  25  40  60 \n",
    "Portkey     25  40  45  50\n",
    "Thestral    40  20  50  45;\n",
    "\n",
    "table cmodes(Modes,Modes)\n",
    "            Train Portkey Thestral\n",
    "Train         0     5       12 \n",
    "Portkey       8     0       10  \n",
    "Thestral     15    10        0;\n",
    "\n",
    "\n",
    "binary variable x(m,l);\n",
    "free variable y(m,l);\n",
    "binary variable z(m,mm,l);\n",
    "free variable TotalCost;\n",
    "\n",
    "equations obj, xeq, yeq1, yeq2;\n",
    "xeq(l).. sum(m,x(m,l)) =E= 1;\n",
    "yeq1(m,mm,l)$(card(l)>1).. x(m,l) + x(mm,l+1) =L= (1-z(m,mm,l+1)) + z(m,mm,l+1)*2 ;\n",
    "yeq2(m,mm,l)$(card(l)>1)..  2*z(m,mm,l+1) -2*(1-z(m,mm,l+1)) =L= x(m,l) + x(mm,l+1) ;\n",
    "\n",
    "obj.. TotalCost =E= sum((m,l), clegs(m,l)*x(m,l)*20)\n",
    "                    + sum((m,mm,l), z(m,mm,l)*cmodes(m,mm)*20 );\n",
    "                    \n",
    "model dragon /all/;\n",
    "solve dragon using MIP min TotalCost;\n",
    "display x.L, z.L, TotalCost.L;"
   ]
  },
  {
   "cell_type": "code",
   "execution_count": 5,
   "metadata": {},
   "outputs": [
    {
     "data": {
      "text/html": [
       "<div>\n",
       "<style scoped>\n",
       "    .dataframe tbody tr th:only-of-type {\n",
       "        vertical-align: middle;\n",
       "    }\n",
       "\n",
       "    .dataframe tbody tr th {\n",
       "        vertical-align: top;\n",
       "    }\n",
       "\n",
       "    .dataframe thead th {\n",
       "        text-align: right;\n",
       "    }\n",
       "</style>\n",
       "<table border=\"1\" class=\"dataframe\">\n",
       "  <thead>\n",
       "    <tr style=\"text-align: right;\">\n",
       "      <th></th>\n",
       "      <th>Modes</th>\n",
       "      <th>level</th>\n",
       "    </tr>\n",
       "    <tr>\n",
       "      <th>Legs</th>\n",
       "      <th></th>\n",
       "      <th></th>\n",
       "    </tr>\n",
       "  </thead>\n",
       "  <tbody>\n",
       "    <tr>\n",
       "      <td>1-2</td>\n",
       "      <td>Train</td>\n",
       "      <td>1.0</td>\n",
       "    </tr>\n",
       "    <tr>\n",
       "      <td>2-3</td>\n",
       "      <td>Train</td>\n",
       "      <td>1.0</td>\n",
       "    </tr>\n",
       "    <tr>\n",
       "      <td>3-4</td>\n",
       "      <td>Train</td>\n",
       "      <td>1.0</td>\n",
       "    </tr>\n",
       "    <tr>\n",
       "      <td>4-5</td>\n",
       "      <td>Portkey</td>\n",
       "      <td>1.0</td>\n",
       "    </tr>\n",
       "  </tbody>\n",
       "</table>\n",
       "</div>"
      ],
      "text/plain": [
       "        Modes  level\n",
       "Legs                \n",
       "1-2     Train    1.0\n",
       "2-3     Train    1.0\n",
       "3-4     Train    1.0\n",
       "4-5   Portkey    1.0"
      ]
     },
     "metadata": {},
     "output_type": "display_data"
    }
   ],
   "source": [
    "%gams_pull -d x\n",
    "x.drop(['marginal','lower','upper','scale'],axis=1,inplace=True)\n",
    "x.set_index('Legs',inplace=True)\n",
    "display(x.loc[x['level']>0])"
   ]
  },
  {
   "cell_type": "code",
   "execution_count": null,
   "metadata": {},
   "outputs": [],
   "source": []
  }
 ],
 "metadata": {
  "kernelspec": {
   "display_name": "Python 3",
   "language": "python",
   "name": "python3"
  },
  "language_info": {
   "codemirror_mode": {
    "name": "ipython",
    "version": 3
   },
   "file_extension": ".py",
   "mimetype": "text/x-python",
   "name": "python",
   "nbconvert_exporter": "python",
   "pygments_lexer": "ipython3",
   "version": "3.6.9"
  }
 },
 "nbformat": 4,
 "nbformat_minor": 2
}
