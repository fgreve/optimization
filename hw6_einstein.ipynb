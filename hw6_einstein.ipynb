{
 "cells": [
  {
   "cell_type": "markdown",
   "metadata": {},
   "source": [
    "# Who owns the Fish?\n",
    "\n",
    "This logic puzzle is attributed to Einstein, who claimed that 98\\% of\n",
    "world could not figure it out.  We are way smarter than Einstein\n",
    "because we know integer programming.  Write an integer program that\n",
    "will solve the following problem.\n",
    "\n",
    "In a street there are five houses, painted five different colours.\n",
    "In each house lives a person of different nationality.\n",
    "These five homeowners each drink a different kind of beverage, smoke\n",
    "different brand of cigar and keep a different pet.\n",
    "\n",
    "### Who owns the fish?\n",
    "\n",
    "Hints:\n",
    "- The Brit lives in a red house.\n",
    "- The Swede keeps dogs as pets.\n",
    "- The Dane drinks tea.\n",
    "- The Green house is on the left of the White house. (i.e. the number\n",
    "    of the white house is  one greater than the green house)\n",
    "- The owner of the Green house drinks coffee.\n",
    "- The person who smokes Pall Mall rears birds.\n",
    "- The owner of the Yellow house smokes Dunhill.\n",
    "- The man living in the centre house drinks milk.\n",
    "- The Norwegian lives in the first house.\n",
    "- The man who smokes Blends lives next to the one who keeps cats.\n",
    "- The man who keeps horses lives next to the man who smokes Dunhill.\n",
    "- The man who smokes Blue Master drinks beer.\n",
    "- The German smokes Prince.\n",
    "- The Norwegian lives next to the blue house.\n",
    "- The man who smokes Blends has a neighbour who drinks water."
   ]
  },
  {
   "cell_type": "code",
   "execution_count": 2,
   "metadata": {
    "scrolled": true
   },
   "outputs": [],
   "source": [
    "# Load the gams extension\n",
    "%load_ext gams_magic"
   ]
  },
  {
   "cell_type": "code",
   "execution_count": 13,
   "metadata": {},
   "outputs": [
    {
     "data": {
      "text/html": [
       "<div>\n",
       "<style scoped>\n",
       "    .dataframe tbody tr th:only-of-type {\n",
       "        vertical-align: middle;\n",
       "    }\n",
       "\n",
       "    .dataframe tbody tr th {\n",
       "        vertical-align: top;\n",
       "    }\n",
       "\n",
       "    .dataframe thead th {\n",
       "        text-align: right;\n",
       "    }\n",
       "</style>\n",
       "<table border=\"1\" class=\"dataframe\">\n",
       "  <thead>\n",
       "    <tr style=\"text-align: right;\">\n",
       "      <th></th>\n",
       "      <th>Solver Status</th>\n",
       "      <th>Model Status</th>\n",
       "      <th>Objective</th>\n",
       "      <th>#equ</th>\n",
       "      <th>#var</th>\n",
       "      <th>Model Type</th>\n",
       "      <th>Solver</th>\n",
       "      <th>Solver Time</th>\n",
       "    </tr>\n",
       "  </thead>\n",
       "  <tbody>\n",
       "    <tr>\n",
       "      <td>0</td>\n",
       "      <td>Normal (1)</td>\n",
       "      <td>Optimal Global (1)</td>\n",
       "      <td>5.0</td>\n",
       "      <td>64</td>\n",
       "      <td>130</td>\n",
       "      <td>MIP</td>\n",
       "      <td>CPLEX</td>\n",
       "      <td>0.015</td>\n",
       "    </tr>\n",
       "  </tbody>\n",
       "</table>\n",
       "</div>"
      ],
      "text/plain": [
       "  Solver Status        Model Status  Objective #equ #var Model Type Solver  \\\n",
       "0    Normal (1)  Optimal Global (1)        5.0   64  130        MIP  CPLEX   \n",
       "\n",
       "  Solver Time  \n",
       "0       0.015  "
      ]
     },
     "execution_count": 13,
     "metadata": {},
     "output_type": "execute_result"
    }
   ],
   "source": [
    "%%gams\n",
    "set nationality /Brit, German, Norwegian, Dane, Swede/\n",
    "    smoke /Blends, Dunhill, BlueMaster, PallMall, Prince/\n",
    "    beverage/tea, beer, milk, water, coffee/\n",
    "    color /yellow, red, green, white, blue/\n",
    "    pet /dog, bird, cat, horse, fish/;\n",
    "*set fishowner(nationality);\n",
    "\n",
    "set i 'house number' /1*5/;\n",
    "parameter house /1 1, 2 2, 3 3, 4 4, 5 5/;\n",
    "\n",
    "binary variable N(nationality,i) 'Nationality of the house';\n",
    "equations Neq1, Neq2;\n",
    "Neq1(i).. sum(nationality, N(nationality,i)) =E= 1;\n",
    "Neq2(nationality).. sum(i, N(nationality,i)) =E= 1;\n",
    "\n",
    "binary variable H(color,i) 'Color of the house';\n",
    "equations Heq1, Heq2;\n",
    "Heq1(i).. sum(color, H(color,i)) =E= 1;\n",
    "Heq2(color).. sum(i, H(color,i)) =E= 1;\n",
    "\n",
    "binary variable D(beverage,i) 'Beverage of the house';\n",
    "equations Deq1, Deq2;\n",
    "Deq1(i).. sum(beverage, D(beverage,i)) =E= 1;\n",
    "Deq2(beverage).. sum(i, D(beverage,i)) =E= 1;\n",
    "\n",
    "binary variable P(pet,i) 'Pet of the house';\n",
    "equations Peq1, Peq2;\n",
    "Peq1(i).. sum(pet, P(pet,i)) =E= 1;\n",
    "Peq2(pet).. sum(i, P(pet,i)) =E= 1;\n",
    "\n",
    "binary variable C(smoke,i) 'Pet of the house';\n",
    "equations Ceq1, Ceq2;\n",
    "Ceq1(i).. sum(smoke, C(smoke,i)) =E= 1;\n",
    "Ceq2(smoke).. sum(i, C(smoke,i)) =E= 1;\n",
    "\n",
    "free variable obj;\n",
    "\n",
    "binary variable b1;\n",
    "binary variable b2;\n",
    "binary variable b3;\n",
    "binary variable b4;\n",
    "\n",
    "* The Norwegian lives in the first house\n",
    "N.fx('Norwegian','1') = 1;\n",
    "\n",
    "* The person living in the middle house drinks milk\n",
    "D.fx('milk','3') = 1\n",
    "\n",
    "* The person living in the yellow house smokes Dunhill\n",
    "equation eq3;\n",
    "eq3.. sum(i, house(i)*H('yellow',i)) =E= sum(i, house(i)* C('Dunhill',i) );\n",
    "\n",
    "* The person living in green house drinks coffee\n",
    "equation eq4;\n",
    "eq4.. sum(i, house(i)*H('green',i)) =E= sum(i, house(i)* D('coffee',i) );\n",
    "\n",
    "* The Dane drinks tea\n",
    "equation eq5;\n",
    "eq5.. sum(i, house(i)*N('Dane',i)) =E= sum(i, house(i)* D('tea',i) );\n",
    "\n",
    "* The German smokes Prince\n",
    "equation eq6;\n",
    "eq6.. sum(i, house(i)*N('German',i)) =E= sum(i, house(i)* C('Prince',i) );\n",
    "\n",
    "* The Swede has a dog\n",
    "equation eq7;\n",
    "eq7.. sum(i, house(i)*N('Swede',i)) =E= sum(i, house(i)* P('dog',i) );\n",
    "\n",
    "* The beer drinker smokes BlueMaster\n",
    "equation eq8;\n",
    "eq8.. sum(i, house(i)*D('beer',i)) =E= sum(i, house(i)* C('BlueMaster',i) );\n",
    "\n",
    "* The bird owner smokes Pall Mall\n",
    "equation eq9;\n",
    "eq9.. sum(i, house(i)*P('bird',i)) =E= sum(i, house(i)* C('PallMall',i) );\n",
    "\n",
    "* The green house is situated immediately to the left of the white house\n",
    "equation eq10;\n",
    "eq10.. sum(i, house(i)*H('white',i)) - sum(i, house(i)*H('green',i))  =E= 1 ;\n",
    "\n",
    "* The British person lives in the red house\n",
    "equation eq11;\n",
    "eq11.. sum(i, house(i)*N('Brit',i)) =E= sum(i, house(i)* H('red',i) );\n",
    "\n",
    "* the person who smokes Blend lives next to the owner of cats, there are two possibilities\n",
    "equation eq12;\n",
    "eq12.. sum(i, house(i)*C('Blends',i)) - sum(i, house(i)*P('cat',i))  =E= 1 -(2*b1);\n",
    "\n",
    "* The person who keeps horses lives next to the person who smokes Dunhill\n",
    "equation eq13;\n",
    "eq13.. sum(i, house(i)*P('horse',i)) - sum(i, house(i)*C('Dunhill',i))  =E= 1 -(2*b2);\n",
    "\n",
    "* The person who smokes Blend has a neighbour who drinks water\n",
    "equation eq14;\n",
    "eq14.. sum(i, house(i)*C('Blends',i)) - sum(i, house(i)*D('water',i))  =E= 1 -(2*b3);\n",
    "\n",
    "* Norwegian lives next to the blue house\n",
    "equation eq15;\n",
    "eq15.. sum(i, house(i)*N('Norwegian',i)) - sum(i, house(i)*H('blue',i))  =E= 1 -(2*b4);\n",
    "\n",
    "equation defobj;\n",
    "defobj.. obj =E= sum((nationality,i), N(nationality,i));\n",
    "\n",
    "model einstein /all/;\n",
    "solve einstein using MIP max obj;\n",
    "display N.L, H.L, P.L;\n",
    "\n",
    "set fishHome(i);\n",
    "set fishOwner(nationality, i);\n",
    "\n",
    "fishHome(i) = yes$(P.L('fish',i) = 1);\n",
    "fishowner(nationality, fishHome) = yes$(N.l(nationality, fishHome) = 1);\n",
    "\n",
    "display fishowner;"
   ]
  },
  {
   "cell_type": "code",
   "execution_count": 14,
   "metadata": {
    "scrolled": false
   },
   "outputs": [
    {
     "data": {
      "text/plain": [
       "[['German', '4']]"
      ]
     },
     "metadata": {},
     "output_type": "display_data"
    },
    {
     "name": "stdout",
     "output_type": "stream",
     "text": [
      "The German owns the fish\n"
     ]
    }
   ],
   "source": [
    "%gams_pull fishowner\n",
    "display(fishowner)\n",
    "print(\"The \" + fishowner[0][0] + \" owns the fish\")"
   ]
  },
  {
   "cell_type": "markdown",
   "metadata": {},
   "source": [
    "Now check that the solution of this problem is unique.\n",
    "\n",
    "Hint: Maybe show that additionally enforcing that the __nationality you got above__ does NOT own the fish gives an infeasible problem."
   ]
  },
  {
   "cell_type": "code",
   "execution_count": 16,
   "metadata": {},
   "outputs": [
    {
     "data": {
      "text/html": [
       "<div>\n",
       "<style scoped>\n",
       "    .dataframe tbody tr th:only-of-type {\n",
       "        vertical-align: middle;\n",
       "    }\n",
       "\n",
       "    .dataframe tbody tr th {\n",
       "        vertical-align: top;\n",
       "    }\n",
       "\n",
       "    .dataframe thead th {\n",
       "        text-align: right;\n",
       "    }\n",
       "</style>\n",
       "<table border=\"1\" class=\"dataframe\">\n",
       "  <thead>\n",
       "    <tr style=\"text-align: right;\">\n",
       "      <th></th>\n",
       "      <th>Solver Status</th>\n",
       "      <th>Model Status</th>\n",
       "      <th>Objective</th>\n",
       "      <th>#equ</th>\n",
       "      <th>#var</th>\n",
       "      <th>Model Type</th>\n",
       "      <th>Solver</th>\n",
       "      <th>Solver Time</th>\n",
       "    </tr>\n",
       "  </thead>\n",
       "  <tbody>\n",
       "    <tr>\n",
       "      <td>0</td>\n",
       "      <td>Normal (1)</td>\n",
       "      <td>IntegerInfeasible (10)</td>\n",
       "      <td>NA</td>\n",
       "      <td>64</td>\n",
       "      <td>130</td>\n",
       "      <td>MIP</td>\n",
       "      <td>CPLEX</td>\n",
       "      <td>0.031</td>\n",
       "    </tr>\n",
       "  </tbody>\n",
       "</table>\n",
       "</div>"
      ],
      "text/plain": [
       "  Solver Status            Model Status Objective #equ #var Model Type Solver  \\\n",
       "0    Normal (1)  IntegerInfeasible (10)        NA   64  130        MIP  CPLEX   \n",
       "\n",
       "  Solver Time  \n",
       "0       0.031  "
      ]
     },
     "execution_count": 16,
     "metadata": {},
     "output_type": "execute_result"
    }
   ],
   "source": [
    "%%gams\n",
    "P.fx('fish','4') = 0;\n",
    "solve einstein using mip maximizing obj;"
   ]
  }
 ],
 "metadata": {
  "kernelspec": {
   "display_name": "Python 3",
   "language": "python",
   "name": "python3"
  },
  "language_info": {
   "codemirror_mode": {
    "name": "ipython",
    "version": 3
   },
   "file_extension": ".py",
   "mimetype": "text/x-python",
   "name": "python",
   "nbconvert_exporter": "python",
   "pygments_lexer": "ipython3",
   "version": "3.6.9"
  }
 },
 "nbformat": 4,
 "nbformat_minor": 2
}
