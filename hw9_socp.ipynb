{
 "cells": [
  {
   "cell_type": "code",
   "execution_count": 1,
   "metadata": {
    "scrolled": true
   },
   "outputs": [],
   "source": [
    "# Load the gams extension\n",
    "%load_ext gams_magic"
   ]
  },
  {
   "cell_type": "markdown",
   "metadata": {},
   "source": [
    "# Simple SOCP problem\n",
    "\n",
    "We would like to minimize the function \n",
    "$$f: \\mathbb{R}^3 \\mapsto \\mathbb{R},$$\n",
    "with values:\n",
    "$$ f(x) = \\max \\left( x_1 + x_2 - \\min ( \\min ( x_1+2,x_2+2x_1-5),x_3 - 6),\n",
    " \\frac{(x_1-x_3)^2 + 2x_2^2}{1-x_1} \\right),\n",
    "$$\n",
    "with the constraint \\$\\| x \\_{\\infty} < 1 \\$.   Explain precisely how to formulate the \n",
    "problem as an SOCP in standard form.\n",
    "### Solve using GAMS."
   ]
  },
  {
   "cell_type": "code",
   "execution_count": 2,
   "metadata": {},
   "outputs": [
    {
     "data": {
      "text/html": [
       "<div>\n",
       "<style scoped>\n",
       "    .dataframe tbody tr th:only-of-type {\n",
       "        vertical-align: middle;\n",
       "    }\n",
       "\n",
       "    .dataframe tbody tr th {\n",
       "        vertical-align: top;\n",
       "    }\n",
       "\n",
       "    .dataframe thead th {\n",
       "        text-align: right;\n",
       "    }\n",
       "</style>\n",
       "<table border=\"1\" class=\"dataframe\">\n",
       "  <thead>\n",
       "    <tr style=\"text-align: right;\">\n",
       "      <th></th>\n",
       "      <th>Solver Status</th>\n",
       "      <th>Model Status</th>\n",
       "      <th>Objective</th>\n",
       "      <th>#equ</th>\n",
       "      <th>#var</th>\n",
       "      <th>Model Type</th>\n",
       "      <th>Solver</th>\n",
       "      <th>Solver Time</th>\n",
       "    </tr>\n",
       "  </thead>\n",
       "  <tbody>\n",
       "    <tr>\n",
       "      <td>0</td>\n",
       "      <td>Normal (1)</td>\n",
       "      <td>OptimalLocal (2)</td>\n",
       "      <td>-4.0</td>\n",
       "      <td>8</td>\n",
       "      <td>8</td>\n",
       "      <td>QCP</td>\n",
       "      <td>CONOPT</td>\n",
       "      <td>0</td>\n",
       "    </tr>\n",
       "  </tbody>\n",
       "</table>\n",
       "</div>"
      ],
      "text/plain": [
       "  Solver Status      Model Status  Objective #equ #var Model Type  Solver  \\\n",
       "0    Normal (1)  OptimalLocal (2)       -4.0    8    8        QCP  CONOPT   \n",
       "\n",
       "  Solver Time  \n",
       "0           0  "
      ]
     },
     "execution_count": 2,
     "metadata": {},
     "output_type": "execute_result"
    }
   ],
   "source": [
    "%%gams\n",
    "variables obj, f,z1,z2,z3,x1,x2,x3;\n",
    "\n",
    "x1.UP = 1;\n",
    "x2.UP = 1;\n",
    "x3.UP = 1;\n",
    "\n",
    "x1.LO = -1;\n",
    "x2.LO = -1;\n",
    "x3.LO = -1;\n",
    "\n",
    "z3.LO = -8;\n",
    "z3.UP = 3;\n",
    "\n",
    "z2.LO = -8;\n",
    "z2.UP = 3;\n",
    "\n",
    "z3.LO = -4;\n",
    "z3.UP = 10;\n",
    "\n",
    "f.LO = -4;\n",
    "f.UP = 10;\n",
    "\n",
    "equation objeq;\n",
    "objeq.. obj =e= f;\n",
    "\n",
    "\n",
    "equation const_f;\n",
    "const_f.. f =g= z3;\n",
    "\n",
    "\n",
    "equation const1_z3;\n",
    "const1_z3.. z3 =l= x1 + x2 - z2;\n",
    "\n",
    "equation const2_z3;\n",
    "const2_z3.. z3 * (1-x1) =l= (x1-x3)*(x1-x3) + 2*x2*x2  ;\n",
    "\n",
    "\n",
    "equation const1_z2;\n",
    "const1_z2.. z2 =g= z1;\n",
    "\n",
    "equation const2_z2;\n",
    "const2_z2.. z2 =g= x3-6;\n",
    "\n",
    "\n",
    "equation const1_z1;\n",
    "const1_z1.. z1 =g= x1+2;\n",
    "\n",
    "equation const2_z1;\n",
    "const2_z1.. z1 =g= x2+2*x1-5;\n",
    "\n",
    "\n",
    "model hw9_socp /all/;\n",
    "solve hw9_socp using qcp min obj;\n",
    "\n",
    "display obj.L,f.L,z1.L,z2.L,z3.L,x1.L,x2.L,x3.L;"
   ]
  }
 ],
 "metadata": {
  "kernelspec": {
   "display_name": "Python 3",
   "language": "python",
   "name": "python3"
  },
  "language_info": {
   "codemirror_mode": {
    "name": "ipython",
    "version": 3
   },
   "file_extension": ".py",
   "mimetype": "text/x-python",
   "name": "python",
   "nbconvert_exporter": "python",
   "pygments_lexer": "ipython3",
   "version": "3.6.9"
  }
 },
 "nbformat": 4,
 "nbformat_minor": 2
}
