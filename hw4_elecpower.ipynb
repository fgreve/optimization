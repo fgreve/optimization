{
 "cells": [
  {
   "cell_type": "markdown",
   "metadata": {},
   "source": [
    "# The Electric Company!\n",
    "\n",
    "The following Power Distribution network\n",
    "<img src=\"elecpowernet.png\" alt=\"Drawing\" style=\"height: 300px;\"/>\n",
    "represents an electrical power distribution network connecting power generating points with power consuming points.\n",
    "\n",
    "The arcs are undirected; that is, power may flow in either direction.  Points 1,4 and 7 are generating points with generating capacities and unit costs given below:\n",
    "\n",
    "|Characteristic                           |1   |4   |7   |\n",
    "|-----------------------------------------|----|----|----|\n",
    "|Capacity (in thousands of kilowatt hours)|100 |20  |80  |\n",
    "|Unit cost (\\\\$ per thousand KWH)         |15.0|13.5|21.0|\n",
    "      \n",
    "Points 2, 5 and 6 are consuming points with demands of 35,000, 50,000, and 60,000 KWH respectively.  There is no upper bound on transmission line capacity and the unit cost of transmission on each line segment is \\\\$11.00 per 1000 KWH.\n",
    "\n",
    "### Set up and solve this problem to minimize the cost of meeting demand as a minimum cost network flow (linear program) in GAMS.  Make sure you have directed arcs in your formulation and the sum of the divergences is zero."
   ]
  },
  {
   "cell_type": "code",
   "execution_count": 1,
   "metadata": {
    "scrolled": true
   },
   "outputs": [],
   "source": [
    "# Load the gams extension\n",
    "%load_ext gams_magic"
   ]
  },
  {
   "cell_type": "markdown",
   "metadata": {},
   "source": [
    "__The GAMS Model:__"
   ]
  },
  {
   "cell_type": "code",
   "execution_count": 3,
   "metadata": {},
   "outputs": [
    {
     "data": {
      "text/html": [
       "<div>\n",
       "<style scoped>\n",
       "    .dataframe tbody tr th:only-of-type {\n",
       "        vertical-align: middle;\n",
       "    }\n",
       "\n",
       "    .dataframe tbody tr th {\n",
       "        vertical-align: top;\n",
       "    }\n",
       "\n",
       "    .dataframe thead th {\n",
       "        text-align: right;\n",
       "    }\n",
       "</style>\n",
       "<table border=\"1\" class=\"dataframe\">\n",
       "  <thead>\n",
       "    <tr style=\"text-align: right;\">\n",
       "      <th></th>\n",
       "      <th>Solver Status</th>\n",
       "      <th>Model Status</th>\n",
       "      <th>Objective</th>\n",
       "      <th>#equ</th>\n",
       "      <th>#var</th>\n",
       "      <th>Model Type</th>\n",
       "      <th>Solver</th>\n",
       "      <th>Solver Time</th>\n",
       "    </tr>\n",
       "  </thead>\n",
       "  <tbody>\n",
       "    <tr>\n",
       "      <td>0</td>\n",
       "      <td>Normal (1)</td>\n",
       "      <td>Optimal Global (1)</td>\n",
       "      <td>4760000.0</td>\n",
       "      <td>9</td>\n",
       "      <td>18</td>\n",
       "      <td>LP</td>\n",
       "      <td>CPLEX</td>\n",
       "      <td>0</td>\n",
       "    </tr>\n",
       "  </tbody>\n",
       "</table>\n",
       "</div>"
      ],
      "text/plain": [
       "  Solver Status        Model Status  Objective #equ #var Model Type Solver  \\\n",
       "0    Normal (1)  Optimal Global (1)  4760000.0    9   18         LP  CPLEX   \n",
       "\n",
       "  Solver Time  \n",
       "0           0  "
      ]
     },
     "execution_count": 3,
     "metadata": {},
     "output_type": "execute_result"
    }
   ],
   "source": [
    "%%gams\n",
    "\n",
    "Set nodes /s, 1*7/;\n",
    "\n",
    "Parameter demand(nodes) /s -145000, 2 35000, 5 50000, 6 60000/;\n",
    "Parameter cost(nodes, nodes) /\n",
    "        s.7 21, s.1 15, s.4 13.5, 1.2 11, 2.1 11, 2.3 11, 3.2 11,\n",
    "        3.5 11, 5.3 11, 3.4 11, 4.3 11, 4.5 11, 5.4 11, 2.7 11, 7.2 11, 7.6 11, 6.7 11 /;\n",
    "\n",
    "Set arcs(nodes, nodes);\n",
    "\n",
    "Alias(nodes, i, j, k);\n",
    "Positive Variable x(nodes, nodes);\n",
    "Variable totalCost;\n",
    "\n",
    "arcs(i, j) = yes$(cost(i, j) gt 0);\n",
    "display Arcs;\n",
    "\n",
    "x.UP(\"s\",\"1\") = 100000;\n",
    "x.UP(\"s\",\"4\") = 20000;\n",
    "x.UP(\"s\",\"7\") = 80000;\n",
    "\n",
    "Equations balance(nodes), obj;\n",
    "balance(k).. sum(i$arcs(i,k), x(i,k)) - sum(j$arcs(k,j), x(k,j)) =e= demand(k);\n",
    "obj.. totalCost =e= sum((i,j)$arcs(i,j), cost(i,j)*x(i,j));\n",
    "\n",
    "Model power /all/;\n",
    "Solve power using lp minimizing totalCost;\n",
    "\n",
    "display x.l;"
   ]
  },
  {
   "cell_type": "markdown",
   "metadata": {},
   "source": [
    "__Pull the solution from GAMS and print just the variable values that are needed:__"
   ]
  },
  {
   "cell_type": "code",
   "execution_count": 4,
   "metadata": {
    "scrolled": false
   },
   "outputs": [
    {
     "data": {
      "text/html": [
       "<div>\n",
       "<style scoped>\n",
       "    .dataframe tbody tr th:only-of-type {\n",
       "        vertical-align: middle;\n",
       "    }\n",
       "\n",
       "    .dataframe tbody tr th {\n",
       "        vertical-align: top;\n",
       "    }\n",
       "\n",
       "    .dataframe thead th {\n",
       "        text-align: right;\n",
       "    }\n",
       "</style>\n",
       "<table border=\"1\" class=\"dataframe\">\n",
       "  <thead>\n",
       "    <tr style=\"text-align: right;\">\n",
       "      <th></th>\n",
       "      <th>from</th>\n",
       "      <th>to</th>\n",
       "      <th>value</th>\n",
       "    </tr>\n",
       "  </thead>\n",
       "  <tbody>\n",
       "    <tr>\n",
       "      <td>0</td>\n",
       "      <td>s</td>\n",
       "      <td>1</td>\n",
       "      <td>65000.0</td>\n",
       "    </tr>\n",
       "    <tr>\n",
       "      <td>1</td>\n",
       "      <td>s</td>\n",
       "      <td>4</td>\n",
       "      <td>20000.0</td>\n",
       "    </tr>\n",
       "    <tr>\n",
       "      <td>2</td>\n",
       "      <td>s</td>\n",
       "      <td>7</td>\n",
       "      <td>60000.0</td>\n",
       "    </tr>\n",
       "    <tr>\n",
       "      <td>3</td>\n",
       "      <td>1</td>\n",
       "      <td>2</td>\n",
       "      <td>65000.0</td>\n",
       "    </tr>\n",
       "    <tr>\n",
       "      <td>5</td>\n",
       "      <td>2</td>\n",
       "      <td>3</td>\n",
       "      <td>30000.0</td>\n",
       "    </tr>\n",
       "    <tr>\n",
       "      <td>9</td>\n",
       "      <td>3</td>\n",
       "      <td>5</td>\n",
       "      <td>30000.0</td>\n",
       "    </tr>\n",
       "    <tr>\n",
       "      <td>11</td>\n",
       "      <td>4</td>\n",
       "      <td>5</td>\n",
       "      <td>20000.0</td>\n",
       "    </tr>\n",
       "    <tr>\n",
       "      <td>16</td>\n",
       "      <td>7</td>\n",
       "      <td>6</td>\n",
       "      <td>60000.0</td>\n",
       "    </tr>\n",
       "  </tbody>\n",
       "</table>\n",
       "</div>"
      ],
      "text/plain": [
       "   from to    value\n",
       "0     s  1  65000.0\n",
       "1     s  4  20000.0\n",
       "2     s  7  60000.0\n",
       "3     1  2  65000.0\n",
       "5     2  3  30000.0\n",
       "9     3  5  30000.0\n",
       "11    4  5  20000.0\n",
       "16    7  6  60000.0"
      ]
     },
     "metadata": {},
     "output_type": "display_data"
    }
   ],
   "source": [
    "%gams_pull -d x\n",
    "\n",
    "x = x.drop(columns=['marginal','lower','upper','scale'])\n",
    "x.columns = ['from','to','value']\n",
    "display(x.loc[(x['to'] != 'dummy') & (x['value'] > 0)])"
   ]
  }
 ],
 "metadata": {
  "kernelspec": {
   "display_name": "Python 3",
   "language": "python",
   "name": "python3"
  },
  "language_info": {
   "codemirror_mode": {
    "name": "ipython",
    "version": 3
   },
   "file_extension": ".py",
   "mimetype": "text/x-python",
   "name": "python",
   "nbconvert_exporter": "python",
   "pygments_lexer": "ipython3",
   "version": "3.6.9"
  }
 },
 "nbformat": 4,
 "nbformat_minor": 2
}
