{
 "cells": [
  {
   "cell_type": "markdown",
   "metadata": {},
   "source": [
    "# Rock concert planning\n",
    "\n",
    "The promoters of a rock concert in Madison must perform the tasks\n",
    "shown in the GAMS code below before the concert can be held:"
   ]
  },
  {
   "cell_type": "code",
   "execution_count": 1,
   "metadata": {
    "scrolled": true
   },
   "outputs": [],
   "source": [
    "# Load the gams extension\n",
    "%load_ext gams_magic"
   ]
  },
  {
   "cell_type": "code",
   "execution_count": 2,
   "metadata": {},
   "outputs": [],
   "source": [
    "%%gams\n",
    "set activity /\n",
    "        A \"Find Site\",\n",
    "        B \"Find Engineers\",\n",
    "        C \"Hire Opening Act\",\n",
    "        D \"Set Radio and TV Ads\",\n",
    "        E \"Set Up Ticket Agents\",\n",
    "        F \"Prepare Electronics\",\n",
    "        G \"Print Advertising\",\n",
    "        H \"Set up Transportation\",\n",
    "        I \"Rehearsals\",\n",
    "        J \"Last-Minute Details\"\n",
    "/;\n",
    "\n",
    "alias (activity,ai,aj);\n",
    "\n",
    "set pred(ai,aj) \"ai preceeds aj\" /\n",
    "        A. (B,C,E) \n",
    "        B . F\n",
    "        C . (D,G,H)\n",
    "        (F,H) . I\n",
    "        I . J\n",
    "/;\n",
    "\n",
    "parameter duration(activity) \"in days\" /\n",
    "        A       3,      B       2\n",
    "        C       6,      D       2\n",
    "        E       3,      F       3\n",
    "        G       5,      H       1\n",
    "        I       1.5,    J       2\n",
    "/;"
   ]
  },
  {
   "cell_type": "markdown",
   "metadata": {},
   "source": [
    "If any increase in the duration of an activity increases the time\n",
    "needed to complete the project, then the activity is called a critical\n",
    "activity.  We will find the critical activities in this project in two\n",
    "different ways.\n",
    "\n",
    "### Method 1\n",
    "Set up a linear program to find the project duration (that is the\n",
    "minimum number of days needed to prepare for the concert).  Determine the critical tasks by inspecting the multipliers of this problem!   Make sure you store and print out the critical tasks."
   ]
  },
  {
   "cell_type": "code",
   "execution_count": 3,
   "metadata": {},
   "outputs": [
    {
     "data": {
      "text/html": [
       "<div>\n",
       "<style scoped>\n",
       "    .dataframe tbody tr th:only-of-type {\n",
       "        vertical-align: middle;\n",
       "    }\n",
       "\n",
       "    .dataframe tbody tr th {\n",
       "        vertical-align: top;\n",
       "    }\n",
       "\n",
       "    .dataframe thead th {\n",
       "        text-align: right;\n",
       "    }\n",
       "</style>\n",
       "<table border=\"1\" class=\"dataframe\">\n",
       "  <thead>\n",
       "    <tr style=\"text-align: right;\">\n",
       "      <th></th>\n",
       "      <th>Solver Status</th>\n",
       "      <th>Model Status</th>\n",
       "      <th>Objective</th>\n",
       "      <th>#equ</th>\n",
       "      <th>#var</th>\n",
       "      <th>Model Type</th>\n",
       "      <th>Solver</th>\n",
       "      <th>Solver Time</th>\n",
       "    </tr>\n",
       "  </thead>\n",
       "  <tbody>\n",
       "    <tr>\n",
       "      <td>0</td>\n",
       "      <td>Normal (1)</td>\n",
       "      <td>Optimal Global (1)</td>\n",
       "      <td>14.0</td>\n",
       "      <td>20</td>\n",
       "      <td>11</td>\n",
       "      <td>LP</td>\n",
       "      <td>CPLEX</td>\n",
       "      <td>0.016</td>\n",
       "    </tr>\n",
       "  </tbody>\n",
       "</table>\n",
       "</div>"
      ],
      "text/plain": [
       "  Solver Status        Model Status  Objective #equ #var Model Type Solver  \\\n",
       "0    Normal (1)  Optimal Global (1)       14.0   20   11         LP  CPLEX   \n",
       "\n",
       "  Solver Time  \n",
       "0       0.016  "
      ]
     },
     "execution_count": 3,
     "metadata": {},
     "output_type": "execute_result"
    }
   ],
   "source": [
    "%%gams\n",
    "free variable T 'time to completion';\n",
    "nonnegative variable S(activity) 'starting time for activity';\n",
    "\n",
    "equations ctime(activity), ptime(ai,aj);\n",
    "ctime(activity).. T =G= S(activity) + duration(activity);\n",
    "ptime(pred(ai,aj)).. S(ai) + duration(ai) =L= S(aj);\n",
    "\n",
    "model cpm /ctime,ptime/;\n",
    "solve cpm using LP minimizing T;\n",
    "\n",
    "parameters critical(*), T_star;\n",
    "critical(activity) = S.m(activity);\n",
    "T_star = T.l;\n",
    "display S.l, T_star, critical;\n"
   ]
  },
  {
   "cell_type": "code",
   "execution_count": 4,
   "metadata": {},
   "outputs": [
    {
     "name": "stdout",
     "output_type": "stream",
     "text": [
      "critical arcs: ('A', 1.0)\n"
     ]
    }
   ],
   "source": [
    "%gams_pull critical\n",
    "print(\"critical arcs:\", *critical)"
   ]
  },
  {
   "cell_type": "markdown",
   "metadata": {},
   "source": [
    "### Method 2\n",
    "Now use two\n",
    "other linear programs to find the early event times (the earliest\n",
    "possible starting time for an activity) and the late event\n",
    "times (the latest possible time to start the activity without delaying\n",
    "project completion time).  Then construct the critical activities by seeing which early\n",
    "event times are the same as the corresponding late event times.\n",
    "Make sure your print out includes a listing of the\n",
    "early and late event times, and the critical activities."
   ]
  },
  {
   "cell_type": "code",
   "execution_count": 5,
   "metadata": {},
   "outputs": [
    {
     "data": {
      "text/html": [
       "<div>\n",
       "<style scoped>\n",
       "    .dataframe tbody tr th:only-of-type {\n",
       "        vertical-align: middle;\n",
       "    }\n",
       "\n",
       "    .dataframe tbody tr th {\n",
       "        vertical-align: top;\n",
       "    }\n",
       "\n",
       "    .dataframe thead th {\n",
       "        text-align: right;\n",
       "    }\n",
       "</style>\n",
       "<table border=\"1\" class=\"dataframe\">\n",
       "  <thead>\n",
       "    <tr style=\"text-align: right;\">\n",
       "      <th></th>\n",
       "      <th>Solver Status</th>\n",
       "      <th>Model Status</th>\n",
       "      <th>Objective</th>\n",
       "      <th>#equ</th>\n",
       "      <th>#var</th>\n",
       "      <th>Model Type</th>\n",
       "      <th>Solver</th>\n",
       "      <th>Solver Time</th>\n",
       "    </tr>\n",
       "  </thead>\n",
       "  <tbody>\n",
       "    <tr>\n",
       "      <td>0</td>\n",
       "      <td>Normal (1)</td>\n",
       "      <td>Optimal Global (1)</td>\n",
       "      <td>80.0</td>\n",
       "      <td>22</td>\n",
       "      <td>12</td>\n",
       "      <td>LP</td>\n",
       "      <td>CPLEX</td>\n",
       "      <td>0.11</td>\n",
       "    </tr>\n",
       "    <tr>\n",
       "      <td>1</td>\n",
       "      <td>Normal (1)</td>\n",
       "      <td>Optimal Global (1)</td>\n",
       "      <td>62.5</td>\n",
       "      <td>22</td>\n",
       "      <td>12</td>\n",
       "      <td>LP</td>\n",
       "      <td>CPLEX</td>\n",
       "      <td>0</td>\n",
       "    </tr>\n",
       "  </tbody>\n",
       "</table>\n",
       "</div>"
      ],
      "text/plain": [
       "  Solver Status        Model Status  Objective #equ #var Model Type Solver  \\\n",
       "0    Normal (1)  Optimal Global (1)       80.0   22   12         LP  CPLEX   \n",
       "1    Normal (1)  Optimal Global (1)       62.5   22   12         LP  CPLEX   \n",
       "\n",
       "  Solver Time  \n",
       "0        0.11  \n",
       "1           0  "
      ]
     },
     "execution_count": 5,
     "metadata": {},
     "output_type": "execute_result"
    }
   ],
   "source": [
    "%%gams\n",
    "free variable TS 'sum of starting times';\n",
    "\n",
    "equations Tmax, Tmin, TSdef;\n",
    "Tmax.. T_star =G= T;\n",
    "Tmin.. T_star =L= T;\n",
    "TSdef.. TS =E= sum(ai, S(ai))\n",
    "\n",
    "model mTmax /ctime,ptime,Tmax,TSdef/;\n",
    "model mTmin /ctime,ptime,Tmin,TSdef/;\n",
    "\n",
    "parameters\n",
    "    leTime(activity) 'latest   possible starting event time without delaying project completion time',\n",
    "    eeTime(activity) 'earliest possible starting event time without delaying project completion time';\n",
    "\n",
    "solve mTmax using LP maximizing TS;\n",
    "leTime(activity) = S.l(activity);\n",
    "\n",
    "solve mTmax using LP minimizing TS;\n",
    "eeTime(activity) = S.l(activity);\n",
    "\n",
    "loop(activity$(ord(activity)>1 ),\n",
    "if (eeTime(activity) = leTime(activity),\n",
    "critical(activity) = eeTime(activity);\n",
    "));\n",
    "\n",
    "display eeTime, leTime, critical;"
   ]
  },
  {
   "cell_type": "code",
   "execution_count": 6,
   "metadata": {},
   "outputs": [
    {
     "name": "stdout",
     "output_type": "stream",
     "text": [
      "critical arcs: ('A', 1.0) ('C', 3.0) ('G', 9.0)\n",
      "early event times:\n",
      "('B', 3.0)\n",
      "('C', 3.0)\n",
      "('D', 9.0)\n",
      "('E', 3.0)\n",
      "('F', 5.0)\n",
      "('G', 9.0)\n",
      "('H', 9.0)\n",
      "('I', 10.0)\n",
      "('J', 11.5)\n",
      "late event times:\n",
      "('B', 5.5)\n",
      "('C', 3.0)\n",
      "('D', 12.0)\n",
      "('E', 11.0)\n",
      "('F', 7.5)\n",
      "('G', 9.0)\n",
      "('H', 9.5)\n",
      "('I', 10.5)\n",
      "('J', 12.0)\n"
     ]
    }
   ],
   "source": [
    "%gams_pull eeTime leTime critical\n",
    "#display(eeTime,leTime,critical)\n",
    "print(\"critical arcs:\", *critical)\n",
    "print(\"early event times:\", *eeTime, sep='\\n')\n",
    "print(\"late event times:\", *leTime, sep='\\n')"
   ]
  },
  {
   "cell_type": "markdown",
   "metadata": {},
   "source": [
    "### Which of these two methods is more reliable?"
   ]
  },
  {
   "cell_type": "markdown",
   "metadata": {},
   "source": [
    "The second method seems more reliable. The first method did not identify the critical events C and G. "
   ]
  }
 ],
 "metadata": {
  "kernelspec": {
   "display_name": "Python 3",
   "language": "python",
   "name": "python3"
  },
  "language_info": {
   "codemirror_mode": {
    "name": "ipython",
    "version": 3
   },
   "file_extension": ".py",
   "mimetype": "text/x-python",
   "name": "python",
   "nbconvert_exporter": "python",
   "pygments_lexer": "ipython3",
   "version": "3.6.9"
  }
 },
 "nbformat": 4,
 "nbformat_minor": 2
}
