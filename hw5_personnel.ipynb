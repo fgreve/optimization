{
 "cells": [
  {
   "cell_type": "markdown",
   "metadata": {},
   "source": [
    "# Personnel problem\n",
    "\n",
    "A construction company's work schedule on a certain site requires the following number of skilled personnel, called steel erectors, in the months of March through August:\n",
    "\n",
    "|Month   |Personnel|\n",
    "|--------|---------|\n",
    "|mar     |4        |\n",
    "|apr     |6        |\n",
    "|may     |7        |\n",
    "|jun     |4        |\n",
    "|jul     |6        |\n",
    "|aug     |2        |\n",
    "|sep     |3        |\n",
    "\n",
    "Personnel work at the site on the monthly basis.\n",
    "\n",
    "Suppose that three steel erectors are on the site in February and three steel erectors must be on site in September. The problem is to determine how many workers to have on site in each month in order to minimize costs, subject to the following conditions:\n",
    "- Transfer costs:\n",
    "Adding a worker to this site costs \\\\$100 per worker and redeploying\n",
    "a worker to another site costs \\\\$160.\n",
    "- Transfer rules:\n",
    "The company can transfer no more than three workers at the\n",
    "start of any month, and under a union agreement,\n",
    "it can redeploy no more than one-third of the current workers\n",
    "in any trade from a site at the end of any month.\n",
    "- Shortage time and overtime:\n",
    "The company incurs a cost of \\\\$200 per worker per month for\n",
    "having a surplus of steel erectors on site and a cost of \\\\$200 per worker\n",
    "per month for having a shortage of workers at the site\n",
    "(which must be made up in overtime).\n",
    "Overtime cannot exceed 25 percent of the regular work time.\n",
    "\n",
    "### Formulate this problem as a shortest path problem and solve it.\n",
    "Hint:  you may want to think about the nodes in your formulation being tuples of the form (people,month)"
   ]
  },
  {
   "cell_type": "code",
   "execution_count": 1,
   "metadata": {
    "scrolled": true
   },
   "outputs": [],
   "source": [
    "# Load the gams extension\n",
    "%load_ext gams_magic"
   ]
  },
  {
   "cell_type": "markdown",
   "metadata": {},
   "source": []
  },
  {
   "cell_type": "code",
   "execution_count": 2,
   "metadata": {},
   "outputs": [
    {
     "data": {
      "text/html": [
       "<div>\n",
       "<style scoped>\n",
       "    .dataframe tbody tr th:only-of-type {\n",
       "        vertical-align: middle;\n",
       "    }\n",
       "\n",
       "    .dataframe tbody tr th {\n",
       "        vertical-align: top;\n",
       "    }\n",
       "\n",
       "    .dataframe thead th {\n",
       "        text-align: right;\n",
       "    }\n",
       "</style>\n",
       "<table border=\"1\" class=\"dataframe\">\n",
       "  <thead>\n",
       "    <tr style=\"text-align: right;\">\n",
       "      <th></th>\n",
       "      <th>Solver Status</th>\n",
       "      <th>Model Status</th>\n",
       "      <th>Objective</th>\n",
       "      <th>#equ</th>\n",
       "      <th>#var</th>\n",
       "      <th>Model Type</th>\n",
       "      <th>Solver</th>\n",
       "      <th>Solver Time</th>\n",
       "    </tr>\n",
       "  </thead>\n",
       "  <tbody>\n",
       "    <tr>\n",
       "      <td>0</td>\n",
       "      <td>Normal (1)</td>\n",
       "      <td>Optimal Global (1)</td>\n",
       "      <td>1160.0</td>\n",
       "      <td>51</td>\n",
       "      <td>135</td>\n",
       "      <td>LP</td>\n",
       "      <td>CPLEX</td>\n",
       "      <td>0.015</td>\n",
       "    </tr>\n",
       "  </tbody>\n",
       "</table>\n",
       "</div>"
      ],
      "text/plain": [
       "  Solver Status        Model Status  Objective #equ #var Model Type Solver  \\\n",
       "0    Normal (1)  Optimal Global (1)     1160.0   51  135         LP  CPLEX   \n",
       "\n",
       "  Solver Time  \n",
       "0       0.015  "
      ]
     },
     "execution_count": 2,
     "metadata": {},
     "output_type": "execute_result"
    }
   ],
   "source": [
    "%%gams\n",
    "set people /1*7/;\n",
    "set month /feb, mar, apr, may, jun, jul, aug, sep/;\n",
    "\n",
    "set nodes(people,month) /set.people.set.month/;\n",
    "display nodes;\n",
    "\n",
    "set nodesfeb(people,month) /set.people.feb/;\n",
    "set nodesmar(people,month) /set.people.mar/;\n",
    "set nodesapr(people,month) /set.people.apr/;\n",
    "set nodesmay(people,month) /set.people.may/;\n",
    "set nodesjun(people,month) /set.people.jun/;\n",
    "set nodesjul(people,month) /set.people.jul/;\n",
    "set nodesaug(people,month) /set.people.aug/;\n",
    "set nodessep(people,month) /set.people.sep/;\n",
    "\n",
    "alias(people,p1,p2);\n",
    "alias(month,m1,m2);\n",
    "alias(nodes,j,i);\n",
    "\n",
    "set arcs(p1,m1,p2,m2) /\n",
    "set.nodesfeb . set.nodesmar\n",
    "set.nodesmar . set.nodesapr\n",
    "set.nodesapr . set.nodesmay\n",
    "set.nodesmay . set.nodesjun\n",
    "set.nodesjun . set.nodesjul\n",
    "set.nodesjul . set.nodesaug\n",
    "set.nodesaug . set.nodessep/;\n",
    "\n",
    "parameter supply(people,month) /3.feb 1, 3.sep -1/;\n",
    "\n",
    "Parameter demand(month) /feb 3, mar 4, apr 6, may 7, jun 4, jul 6, aug 2, sep 3/;\n",
    "\n",
    "arcs(p1, m1, p2, m2)$(demand(m2) > 1.25 * ord(p2)) = no;\n",
    "arcs(p1, m1, p2, m2)$((ord(p2) < [2/3] * ord(p1)) or (ord(p2) > ord(p1) + 3) ) = no;\n",
    "\n",
    "Parameter costs(p1,m1,p2,m2);\n",
    "costs(p1,m1,p2,m2)$( arcs(p1,m1,p2,m2) and ord(p2) > ord(p1) ) = 100*( ord(p2) - ord(p1) );\n",
    "costs(p1,m1,p2,m2)$( arcs(p1,m1,p2,m2) and ord(p1) > ord(p2) ) = 160*( ord(p1) - ord(p2) );\n",
    "costs(p1,m1,p2,m2)$( arcs(p1,m1,p2,m2) and ord(p2) > demand(m2) ) = 200*( ord(p2) - demand(m2) );\n",
    "costs(p1,m1,p2,m2)$( arcs(p1,m1,p2,m2) and demand(m2) > ord(p2) ) = 200*( demand(m2) - ord(p2) );\n",
    "\n",
    "variables TotalCost;\n",
    "nonnegative variable flow(p1,m1,p2,m2);\n",
    "\n",
    "equations bal, obj;\n",
    "\n",
    "bal(people,month).. supply(people,month) =e= sum(arcs(people,month,p2,m2), flow(people,month,p2,m2)) - sum(arcs(p1,m1,people,month), flow(p1,m1,people,month));\n",
    "\n",
    "Obj.. totalCost =e= sum(arcs, flow(arcs) * costs(arcs));\n",
    "\n",
    "Model short /all/;\n",
    "Solve short using lp minimizing totalCost;\n"
   ]
  },
  {
   "cell_type": "code",
   "execution_count": 3,
   "metadata": {},
   "outputs": [
    {
     "name": "stdout",
     "output_type": "stream",
     "text": [
      "Steel erectors employed:\n",
      " {'feb': '3', 'mar': '4', 'apr': '7', 'may': '7', 'jun': '5', 'jul': '6', 'aug': '4', 'sep': '3'}\n"
     ]
    }
   ],
   "source": [
    "%gams_pull -d flow\n",
    "%gams_pull month\n",
    "soln=flow.loc[flow['level'] > 0]\n",
    "soln.columns = ['p1','m1','p2','m2','level','marginal','lower','upper','scale']\n",
    "used = dict.fromkeys(month)\n",
    "for index, row in soln.iterrows():\n",
    "    used[row['m1']] = row['p1']\n",
    "    used[row['m2']] = row['p2']\n",
    "print('Steel erectors employed:\\n', used)"
   ]
  }
 ],
 "metadata": {
  "kernelspec": {
   "display_name": "Python 3",
   "language": "python",
   "name": "python3"
  },
  "language_info": {
   "codemirror_mode": {
    "name": "ipython",
    "version": 3
   },
   "file_extension": ".py",
   "mimetype": "text/x-python",
   "name": "python",
   "nbconvert_exporter": "python",
   "pygments_lexer": "ipython3",
   "version": "3.6.9"
  }
 },
 "nbformat": 4,
 "nbformat_minor": 2
}
