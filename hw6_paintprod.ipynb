{
 "cells": [
  {
   "cell_type": "markdown",
   "metadata": {},
   "source": [
    "# Filtch's Paint Company\n",
    "\n",
    "As part of his weekly production, the caretaker of Hogwarts, Augustus\n",
    "Filtch must produce $n$ batches of magical paints, always the same.\n",
    "Every paint batch is produced in a single production process,\n",
    "all in the same blender that needs to be cleaned between two batches.\n",
    "\n",
    "The cleaning times depend of the colors and the paint types.  For\n",
    "example, a long cleaning period is required if an oil-based paint is\n",
    "produced after a water-based paint, or to produce white paint after a\n",
    "dark color.  The times are given in minutes in the following table\n",
    "CLEAN where CLEAN$(i,j)$ denotes the cleaning time between\n",
    "batch $i$ and batch $j$.  The durations of blending paint batches are\n",
    "given in the parameter DUR$(i)$ below.\n",
    "\n",
    "Since Filch has other activities, he wishes to deal with this\n",
    "weekly production in the shortest possible time (blending and\n",
    "cleaning).  What is the corresponding order of paint batches?  The\n",
    "order will be applied every week, so the cleaning time between the\n",
    "last batch of one week and the first of the following week needs to be\n",
    "accounted for in the total duration of cleaning.  \n",
    "\n",
    "### Write a GAMS model that will determine the order of the paint batches.\n",
    "\n",
    "Hint: you may want to look at Miller–Tucker–Zemlin subtour elimination constraints."
   ]
  },
  {
   "cell_type": "code",
   "execution_count": null,
   "metadata": {
    "scrolled": true
   },
   "outputs": [],
   "source": [
    "# Load the gams extension\n",
    "%load_ext gams_magic"
   ]
  },
  {
   "cell_type": "code",
   "execution_count": null,
   "metadata": {},
   "outputs": [],
   "source": [
    "%%gams\n",
    "set i /1*10/;\n",
    "alias(i,j);\n",
    "\n",
    "table clean(i,j)\n",
    "   1  2  3  4  5  6  7  8   9  10\n",
    "1     11 7  13 11 12 4  9   7  11\n",
    "2  5     13 15 15 6  8  10  9   8\n",
    "3  13 15    23 11 11 16 18  5   7\n",
    "4  9  13 5     3  8  10 12 14   5\n",
    "5  3  7  7  7     9  10 11 12  13\n",
    "6  10 6  3  4  14    8  5  11  12\n",
    "7  4  6  7  3  13 7     10  4   6\n",
    "8  7  8  9  9  12 11 10    10   9\n",
    "9  9  14 8  4  9  6  10 8      12\n",
    "10 11 17 11 6  10 4  7  9  11\n",
    ";\n",
    "\n",
    "parameter dur(i) /1 40, 2 35, 3 45, 4 32, 5 50, 6 42, 7 44, 8 30, 9 33, 10 55 /;"
   ]
  },
  {
   "cell_type": "code",
   "execution_count": null,
   "metadata": {},
   "outputs": [],
   "source": [
    "# write model and solve gams code here"
   ]
  },
  {
   "cell_type": "markdown",
   "metadata": {},
   "source": [
    "We would like to print out the total time to process all batches (both\n",
    "blending and cleaning), as well as the order in which the batches are\n",
    "processed.\n",
    "\n",
    "If $obj$ is the variable representing the length of the blending\n",
    "and cleaning process, and $y(i)$ is a variable representing the\n",
    "position of batch $i$, then the following code should do the\n",
    "trick.\n",
    "\n",
    "We assume without loss of generality that we do the first batch (1) first in the order."
   ]
  },
  {
   "cell_type": "code",
   "execution_count": null,
   "metadata": {},
   "outputs": [],
   "source": [
    "# write gams code to generate batchlegth and order here"
   ]
  },
  {
   "cell_type": "code",
   "execution_count": null,
   "metadata": {},
   "outputs": [],
   "source": [
    "%gams_pull -d batchlength order\n",
    "display(batchlength,order)"
   ]
  },
  {
   "cell_type": "code",
   "execution_count": null,
   "metadata": {},
   "outputs": [],
   "source": []
  }
 ],
 "metadata": {
  "kernelspec": {
   "display_name": "Python 3",
   "language": "python",
   "name": "python3"
  },
  "language_info": {
   "codemirror_mode": {
    "name": "ipython",
    "version": 3
   },
   "file_extension": ".py",
   "mimetype": "text/x-python",
   "name": "python",
   "nbconvert_exporter": "python",
   "pygments_lexer": "ipython3",
   "version": "3.6.9"
  }
 },
 "nbformat": 4,
 "nbformat_minor": 2
}
